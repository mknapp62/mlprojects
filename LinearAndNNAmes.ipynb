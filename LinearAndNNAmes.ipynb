{
  "cells": [
    {
      "cell_type": "code",
      "execution_count": null,
      "metadata": {
        "id": "jCEdB3whMoW3"
      },
      "outputs": [],
      "source": [
        "\n",
        "import numpy as np\n",
        "import pandas as pd\n",
        "import tensorflow as tf\n",
        "from tensorflow.keras import layers\n",
        "from matplotlib import pyplot as plt\n",
        "import seaborn as sns\n",
        "\n",
        "# The following lines adjust the granularity of reporting. \n",
        "pd.options.display.max_rows = 10\n",
        "pd.options.display.float_format = \"{:.1f}\".format\n"
      ]
    },
    {
      "cell_type": "code",
      "execution_count": null,
      "metadata": {
        "id": "y5H7Z9TgM36M"
      },
      "outputs": [],
      "source": [
        "import scipy.stats as stats\n",
        "test_df = pd.read_csv(\"test.csv\")\n",
        "train_df = pd.read_csv(\"train (1).csv\")\n",
        "# Print the first rows of the pandas DataFrame.\n"
      ]
    },
    {
      "cell_type": "code",
      "execution_count": null,
      "metadata": {
        "id": "Kd3r-nymj3mL"
      },
      "outputs": [],
      "source": [
        "train_df = train_df.reindex(np.random.permutation(train_df.index))"
      ]
    },
    {
      "cell_type": "code",
      "execution_count": null,
      "metadata": {
        "id": "Yriw8d35Q2up"
      },
      "outputs": [],
      "source": [
        "from pandas.core.reshape.reshape import get_dummies\n",
        "for col in list(train_df):\n",
        "  if train_df[col].dtypes == 'object':\n",
        "    test_df = pd.get_dummies(test_df, columns=[col])\n",
        "    train_df = pd.get_dummies(train_df, columns=[col])"
      ]
    },
    {
      "cell_type": "code",
      "execution_count": null,
      "metadata": {
        "id": "VDhfqX6uGjpf"
      },
      "outputs": [],
      "source": [
        "list(train_df)"
      ]
    },
    {
      "cell_type": "code",
      "execution_count": null,
      "metadata": {
        "id": "pv6vZLbbKiMA"
      },
      "outputs": [],
      "source": [
        "import statistics\n",
        "from statistics import mean"
      ]
    },
    {
      "cell_type": "markdown",
      "source": [
        "Find unique correlation by feature"
      ],
      "metadata": {
        "id": "pfbTsUjWYU7l"
      }
    },
    {
      "cell_type": "code",
      "execution_count": null,
      "metadata": {
        "id": "xb-wLPII9vjP"
      },
      "outputs": [],
      "source": [
        "price = []\n",
        "aveprice = []\n",
        "feat = []\n",
        "def find_unique_cor(feature):\n",
        "  for uni in train_df[feature].unique():\n",
        "    feat.append(uni)\n",
        "    for index in train_df['Id']:\n",
        "      if train_df[feature][index - 1] == uni:\n",
        "        price.append(train_df['SalePrice'][index - 1])\n",
        "    aveprice.append(statistics.mean(price))\n",
        "    price.clear()\n",
        "  return price, aveprice, feat"
      ]
    },
    {
      "cell_type": "code",
      "execution_count": null,
      "metadata": {
        "colab": {
          "base_uri": "https://localhost:8080/"
        },
        "id": "F2o0AGv2_Y2W",
        "outputId": "b12130d6-04b8-4787-a5c4-26e23ba00299"
      },
      "outputs": [
        {
          "data": {
            "text/plain": [
              "(25, 25)"
            ]
          },
          "execution_count": 187,
          "metadata": {},
          "output_type": "execute_result"
        }
      ],
      "source": [
        "find_unique_cor('Neighborhood')\n",
        "len(feat), len(aveprice)"
      ]
    },
    {
      "cell_type": "code",
      "execution_count": null,
      "metadata": {
        "colab": {
          "base_uri": "https://localhost:8080/",
          "height": 424
        },
        "id": "cE-eKXyMLjMv",
        "outputId": "cbfc9476-daa3-4f92-bc79-2e15c918df19"
      },
      "outputs": [
        {
          "data": {
            "text/html": [
              "\n",
              "  <div id=\"df-3802304a-f9bc-4402-8fe1-beacc9bb3f9e\">\n",
              "    <div class=\"colab-df-container\">\n",
              "      <div>\n",
              "<style scoped>\n",
              "    .dataframe tbody tr th:only-of-type {\n",
              "        vertical-align: middle;\n",
              "    }\n",
              "\n",
              "    .dataframe tbody tr th {\n",
              "        vertical-align: top;\n",
              "    }\n",
              "\n",
              "    .dataframe thead th {\n",
              "        text-align: right;\n",
              "    }\n",
              "</style>\n",
              "<table border=\"1\" class=\"dataframe\">\n",
              "  <thead>\n",
              "    <tr style=\"text-align: right;\">\n",
              "      <th></th>\n",
              "      <th>feat</th>\n",
              "      <th>aveprice</th>\n",
              "    </tr>\n",
              "  </thead>\n",
              "  <tbody>\n",
              "    <tr>\n",
              "      <th>0</th>\n",
              "      <td>CollgCr</td>\n",
              "      <td>197965</td>\n",
              "    </tr>\n",
              "    <tr>\n",
              "      <th>1</th>\n",
              "      <td>Veenker</td>\n",
              "      <td>238772</td>\n",
              "    </tr>\n",
              "    <tr>\n",
              "      <th>2</th>\n",
              "      <td>Crawfor</td>\n",
              "      <td>210624</td>\n",
              "    </tr>\n",
              "    <tr>\n",
              "      <th>3</th>\n",
              "      <td>NoRidge</td>\n",
              "      <td>335295</td>\n",
              "    </tr>\n",
              "    <tr>\n",
              "      <th>4</th>\n",
              "      <td>Mitchel</td>\n",
              "      <td>156270</td>\n",
              "    </tr>\n",
              "    <tr>\n",
              "      <th>...</th>\n",
              "      <td>...</td>\n",
              "      <td>...</td>\n",
              "    </tr>\n",
              "    <tr>\n",
              "      <th>20</th>\n",
              "      <td>NPkVill</td>\n",
              "      <td>142694</td>\n",
              "    </tr>\n",
              "    <tr>\n",
              "      <th>21</th>\n",
              "      <td>Blmngtn</td>\n",
              "      <td>194870</td>\n",
              "    </tr>\n",
              "    <tr>\n",
              "      <th>22</th>\n",
              "      <td>BrDale</td>\n",
              "      <td>104493</td>\n",
              "    </tr>\n",
              "    <tr>\n",
              "      <th>23</th>\n",
              "      <td>SWISU</td>\n",
              "      <td>142591</td>\n",
              "    </tr>\n",
              "    <tr>\n",
              "      <th>24</th>\n",
              "      <td>Blueste</td>\n",
              "      <td>137500</td>\n",
              "    </tr>\n",
              "  </tbody>\n",
              "</table>\n",
              "<p>25 rows × 2 columns</p>\n",
              "</div>\n",
              "      <button class=\"colab-df-convert\" onclick=\"convertToInteractive('df-3802304a-f9bc-4402-8fe1-beacc9bb3f9e')\"\n",
              "              title=\"Convert this dataframe to an interactive table.\"\n",
              "              style=\"display:none;\">\n",
              "        \n",
              "  <svg xmlns=\"http://www.w3.org/2000/svg\" height=\"24px\"viewBox=\"0 0 24 24\"\n",
              "       width=\"24px\">\n",
              "    <path d=\"M0 0h24v24H0V0z\" fill=\"none\"/>\n",
              "    <path d=\"M18.56 5.44l.94 2.06.94-2.06 2.06-.94-2.06-.94-.94-2.06-.94 2.06-2.06.94zm-11 1L8.5 8.5l.94-2.06 2.06-.94-2.06-.94L8.5 2.5l-.94 2.06-2.06.94zm10 10l.94 2.06.94-2.06 2.06-.94-2.06-.94-.94-2.06-.94 2.06-2.06.94z\"/><path d=\"M17.41 7.96l-1.37-1.37c-.4-.4-.92-.59-1.43-.59-.52 0-1.04.2-1.43.59L10.3 9.45l-7.72 7.72c-.78.78-.78 2.05 0 2.83L4 21.41c.39.39.9.59 1.41.59.51 0 1.02-.2 1.41-.59l7.78-7.78 2.81-2.81c.8-.78.8-2.07 0-2.86zM5.41 20L4 18.59l7.72-7.72 1.47 1.35L5.41 20z\"/>\n",
              "  </svg>\n",
              "      </button>\n",
              "      \n",
              "  <style>\n",
              "    .colab-df-container {\n",
              "      display:flex;\n",
              "      flex-wrap:wrap;\n",
              "      gap: 12px;\n",
              "    }\n",
              "\n",
              "    .colab-df-convert {\n",
              "      background-color: #E8F0FE;\n",
              "      border: none;\n",
              "      border-radius: 50%;\n",
              "      cursor: pointer;\n",
              "      display: none;\n",
              "      fill: #1967D2;\n",
              "      height: 32px;\n",
              "      padding: 0 0 0 0;\n",
              "      width: 32px;\n",
              "    }\n",
              "\n",
              "    .colab-df-convert:hover {\n",
              "      background-color: #E2EBFA;\n",
              "      box-shadow: 0px 1px 2px rgba(60, 64, 67, 0.3), 0px 1px 3px 1px rgba(60, 64, 67, 0.15);\n",
              "      fill: #174EA6;\n",
              "    }\n",
              "\n",
              "    [theme=dark] .colab-df-convert {\n",
              "      background-color: #3B4455;\n",
              "      fill: #D2E3FC;\n",
              "    }\n",
              "\n",
              "    [theme=dark] .colab-df-convert:hover {\n",
              "      background-color: #434B5C;\n",
              "      box-shadow: 0px 1px 3px 1px rgba(0, 0, 0, 0.15);\n",
              "      filter: drop-shadow(0px 1px 2px rgba(0, 0, 0, 0.3));\n",
              "      fill: #FFFFFF;\n",
              "    }\n",
              "  </style>\n",
              "\n",
              "      <script>\n",
              "        const buttonEl =\n",
              "          document.querySelector('#df-3802304a-f9bc-4402-8fe1-beacc9bb3f9e button.colab-df-convert');\n",
              "        buttonEl.style.display =\n",
              "          google.colab.kernel.accessAllowed ? 'block' : 'none';\n",
              "\n",
              "        async function convertToInteractive(key) {\n",
              "          const element = document.querySelector('#df-3802304a-f9bc-4402-8fe1-beacc9bb3f9e');\n",
              "          const dataTable =\n",
              "            await google.colab.kernel.invokeFunction('convertToInteractive',\n",
              "                                                     [key], {});\n",
              "          if (!dataTable) return;\n",
              "\n",
              "          const docLinkHtml = 'Like what you see? Visit the ' +\n",
              "            '<a target=\"_blank\" href=https://colab.research.google.com/notebooks/data_table.ipynb>data table notebook</a>'\n",
              "            + ' to learn more about interactive tables.';\n",
              "          element.innerHTML = '';\n",
              "          dataTable['output_type'] = 'display_data';\n",
              "          await google.colab.output.renderOutput(dataTable, element);\n",
              "          const docLink = document.createElement('div');\n",
              "          docLink.innerHTML = docLinkHtml;\n",
              "          element.appendChild(docLink);\n",
              "        }\n",
              "      </script>\n",
              "    </div>\n",
              "  </div>\n",
              "  "
            ],
            "text/plain": [
              "       feat  aveprice\n",
              "0   CollgCr    197965\n",
              "1   Veenker    238772\n",
              "2   Crawfor    210624\n",
              "3   NoRidge    335295\n",
              "4   Mitchel    156270\n",
              "..      ...       ...\n",
              "20  NPkVill    142694\n",
              "21  Blmngtn    194870\n",
              "22   BrDale    104493\n",
              "23    SWISU    142591\n",
              "24  Blueste    137500\n",
              "\n",
              "[25 rows x 2 columns]"
            ]
          },
          "execution_count": 188,
          "metadata": {},
          "output_type": "execute_result"
        }
      ],
      "source": [
        "feature_explorer = pd.DataFrame({'feat':feat, 'aveprice':aveprice})\n",
        "feature_explorer"
      ]
    },
    {
      "cell_type": "markdown",
      "source": [
        "Place neighborhoods into three buckets manually"
      ],
      "metadata": {
        "id": "WYcUH3iuY3dy"
      }
    },
    {
      "cell_type": "code",
      "execution_count": null,
      "metadata": {
        "id": "TdovIALpKIx_"
      },
      "outputs": [],
      "source": [
        "def map_neighborhood(feature_explorer):\n",
        "  map_neighbor = {}\n",
        "  i=0\n",
        "  for index in feature_explorer['feat']:\n",
        "      if feature_explorer['aveprice'][i] < 175000:\n",
        "        map_neighbor[index] = 1\n",
        "      elif feature_explorer['aveprice'][i] > 175000 and feature_explorer['aveprice'][i] < 270000:\n",
        "        map_neighbor[index] = 2 \n",
        "      elif feature_explorer['aveprice'][i] > 270000:\n",
        "        map_neighbor[index] = 3 \n",
        "      i+=1   \n",
        "  return map_neighbor   "
      ]
    },
    {
      "cell_type": "code",
      "execution_count": null,
      "metadata": {
        "colab": {
          "base_uri": "https://localhost:8080/",
          "height": 424
        },
        "id": "cHznEhMHLw03",
        "outputId": "b96b2595-7a4b-4e30-fbb7-f5539288151b"
      },
      "outputs": [
        {
          "data": {
            "text/html": [
              "\n",
              "  <div id=\"df-3b59abec-3f98-4070-b559-c347d85f4d64\">\n",
              "    <div class=\"colab-df-container\">\n",
              "      <div>\n",
              "<style scoped>\n",
              "    .dataframe tbody tr th:only-of-type {\n",
              "        vertical-align: middle;\n",
              "    }\n",
              "\n",
              "    .dataframe tbody tr th {\n",
              "        vertical-align: top;\n",
              "    }\n",
              "\n",
              "    .dataframe thead th {\n",
              "        text-align: right;\n",
              "    }\n",
              "</style>\n",
              "<table border=\"1\" class=\"dataframe\">\n",
              "  <thead>\n",
              "    <tr style=\"text-align: right;\">\n",
              "      <th></th>\n",
              "      <th>feat</th>\n",
              "      <th>aveprice</th>\n",
              "    </tr>\n",
              "  </thead>\n",
              "  <tbody>\n",
              "    <tr>\n",
              "      <th>0</th>\n",
              "      <td>CollgCr</td>\n",
              "      <td>197965</td>\n",
              "    </tr>\n",
              "    <tr>\n",
              "      <th>1</th>\n",
              "      <td>Veenker</td>\n",
              "      <td>238772</td>\n",
              "    </tr>\n",
              "    <tr>\n",
              "      <th>2</th>\n",
              "      <td>Crawfor</td>\n",
              "      <td>210624</td>\n",
              "    </tr>\n",
              "    <tr>\n",
              "      <th>3</th>\n",
              "      <td>NoRidge</td>\n",
              "      <td>335295</td>\n",
              "    </tr>\n",
              "    <tr>\n",
              "      <th>4</th>\n",
              "      <td>Mitchel</td>\n",
              "      <td>156270</td>\n",
              "    </tr>\n",
              "    <tr>\n",
              "      <th>...</th>\n",
              "      <td>...</td>\n",
              "      <td>...</td>\n",
              "    </tr>\n",
              "    <tr>\n",
              "      <th>20</th>\n",
              "      <td>NPkVill</td>\n",
              "      <td>142694</td>\n",
              "    </tr>\n",
              "    <tr>\n",
              "      <th>21</th>\n",
              "      <td>Blmngtn</td>\n",
              "      <td>194870</td>\n",
              "    </tr>\n",
              "    <tr>\n",
              "      <th>22</th>\n",
              "      <td>BrDale</td>\n",
              "      <td>104493</td>\n",
              "    </tr>\n",
              "    <tr>\n",
              "      <th>23</th>\n",
              "      <td>SWISU</td>\n",
              "      <td>142591</td>\n",
              "    </tr>\n",
              "    <tr>\n",
              "      <th>24</th>\n",
              "      <td>Blueste</td>\n",
              "      <td>137500</td>\n",
              "    </tr>\n",
              "  </tbody>\n",
              "</table>\n",
              "<p>25 rows × 2 columns</p>\n",
              "</div>\n",
              "      <button class=\"colab-df-convert\" onclick=\"convertToInteractive('df-3b59abec-3f98-4070-b559-c347d85f4d64')\"\n",
              "              title=\"Convert this dataframe to an interactive table.\"\n",
              "              style=\"display:none;\">\n",
              "        \n",
              "  <svg xmlns=\"http://www.w3.org/2000/svg\" height=\"24px\"viewBox=\"0 0 24 24\"\n",
              "       width=\"24px\">\n",
              "    <path d=\"M0 0h24v24H0V0z\" fill=\"none\"/>\n",
              "    <path d=\"M18.56 5.44l.94 2.06.94-2.06 2.06-.94-2.06-.94-.94-2.06-.94 2.06-2.06.94zm-11 1L8.5 8.5l.94-2.06 2.06-.94-2.06-.94L8.5 2.5l-.94 2.06-2.06.94zm10 10l.94 2.06.94-2.06 2.06-.94-2.06-.94-.94-2.06-.94 2.06-2.06.94z\"/><path d=\"M17.41 7.96l-1.37-1.37c-.4-.4-.92-.59-1.43-.59-.52 0-1.04.2-1.43.59L10.3 9.45l-7.72 7.72c-.78.78-.78 2.05 0 2.83L4 21.41c.39.39.9.59 1.41.59.51 0 1.02-.2 1.41-.59l7.78-7.78 2.81-2.81c.8-.78.8-2.07 0-2.86zM5.41 20L4 18.59l7.72-7.72 1.47 1.35L5.41 20z\"/>\n",
              "  </svg>\n",
              "      </button>\n",
              "      \n",
              "  <style>\n",
              "    .colab-df-container {\n",
              "      display:flex;\n",
              "      flex-wrap:wrap;\n",
              "      gap: 12px;\n",
              "    }\n",
              "\n",
              "    .colab-df-convert {\n",
              "      background-color: #E8F0FE;\n",
              "      border: none;\n",
              "      border-radius: 50%;\n",
              "      cursor: pointer;\n",
              "      display: none;\n",
              "      fill: #1967D2;\n",
              "      height: 32px;\n",
              "      padding: 0 0 0 0;\n",
              "      width: 32px;\n",
              "    }\n",
              "\n",
              "    .colab-df-convert:hover {\n",
              "      background-color: #E2EBFA;\n",
              "      box-shadow: 0px 1px 2px rgba(60, 64, 67, 0.3), 0px 1px 3px 1px rgba(60, 64, 67, 0.15);\n",
              "      fill: #174EA6;\n",
              "    }\n",
              "\n",
              "    [theme=dark] .colab-df-convert {\n",
              "      background-color: #3B4455;\n",
              "      fill: #D2E3FC;\n",
              "    }\n",
              "\n",
              "    [theme=dark] .colab-df-convert:hover {\n",
              "      background-color: #434B5C;\n",
              "      box-shadow: 0px 1px 3px 1px rgba(0, 0, 0, 0.15);\n",
              "      filter: drop-shadow(0px 1px 2px rgba(0, 0, 0, 0.3));\n",
              "      fill: #FFFFFF;\n",
              "    }\n",
              "  </style>\n",
              "\n",
              "      <script>\n",
              "        const buttonEl =\n",
              "          document.querySelector('#df-3b59abec-3f98-4070-b559-c347d85f4d64 button.colab-df-convert');\n",
              "        buttonEl.style.display =\n",
              "          google.colab.kernel.accessAllowed ? 'block' : 'none';\n",
              "\n",
              "        async function convertToInteractive(key) {\n",
              "          const element = document.querySelector('#df-3b59abec-3f98-4070-b559-c347d85f4d64');\n",
              "          const dataTable =\n",
              "            await google.colab.kernel.invokeFunction('convertToInteractive',\n",
              "                                                     [key], {});\n",
              "          if (!dataTable) return;\n",
              "\n",
              "          const docLinkHtml = 'Like what you see? Visit the ' +\n",
              "            '<a target=\"_blank\" href=https://colab.research.google.com/notebooks/data_table.ipynb>data table notebook</a>'\n",
              "            + ' to learn more about interactive tables.';\n",
              "          element.innerHTML = '';\n",
              "          dataTable['output_type'] = 'display_data';\n",
              "          await google.colab.output.renderOutput(dataTable, element);\n",
              "          const docLink = document.createElement('div');\n",
              "          docLink.innerHTML = docLinkHtml;\n",
              "          element.appendChild(docLink);\n",
              "        }\n",
              "      </script>\n",
              "    </div>\n",
              "  </div>\n",
              "  "
            ],
            "text/plain": [
              "       feat  aveprice\n",
              "0   CollgCr    197965\n",
              "1   Veenker    238772\n",
              "2   Crawfor    210624\n",
              "3   NoRidge    335295\n",
              "4   Mitchel    156270\n",
              "..      ...       ...\n",
              "20  NPkVill    142694\n",
              "21  Blmngtn    194870\n",
              "22   BrDale    104493\n",
              "23    SWISU    142591\n",
              "24  Blueste    137500\n",
              "\n",
              "[25 rows x 2 columns]"
            ]
          },
          "execution_count": 190,
          "metadata": {},
          "output_type": "execute_result"
        }
      ],
      "source": [
        "feature_explorer"
      ]
    },
    {
      "cell_type": "code",
      "execution_count": null,
      "metadata": {
        "colab": {
          "base_uri": "https://localhost:8080/"
        },
        "id": "RaFLkBx5LTBs",
        "outputId": "cf209175-a0e2-4027-8b3a-d0bd521d33f9"
      },
      "outputs": [
        {
          "data": {
            "text/plain": [
              "{'CollgCr': 2,\n",
              " 'Veenker': 2,\n",
              " 'Crawfor': 2,\n",
              " 'NoRidge': 3,\n",
              " 'Mitchel': 1,\n",
              " 'Somerst': 2,\n",
              " 'NWAmes': 2,\n",
              " 'OldTown': 1,\n",
              " 'BrkSide': 1,\n",
              " 'Sawyer': 1,\n",
              " 'NridgHt': 3,\n",
              " 'NAmes': 1,\n",
              " 'SawyerW': 2,\n",
              " 'IDOTRR': 1,\n",
              " 'MeadowV': 1,\n",
              " 'Edwards': 1,\n",
              " 'Timber': 2,\n",
              " 'Gilbert': 2,\n",
              " 'StoneBr': 3,\n",
              " 'ClearCr': 2,\n",
              " 'NPkVill': 1,\n",
              " 'Blmngtn': 2,\n",
              " 'BrDale': 1,\n",
              " 'SWISU': 1,\n",
              " 'Blueste': 1}"
            ]
          },
          "execution_count": 191,
          "metadata": {},
          "output_type": "execute_result"
        }
      ],
      "source": [
        "map_neighbor = map_neighborhood(feature_explorer)\n",
        "map_neighbor"
      ]
    },
    {
      "cell_type": "code",
      "execution_count": null,
      "metadata": {
        "colab": {
          "base_uri": "https://localhost:8080/"
        },
        "id": "yjxOXIDOhQAH",
        "outputId": "1a899c12-6e39-4772-b737-fc3561f486a5"
      },
      "outputs": [
        {
          "data": {
            "text/plain": [
              "2"
            ]
          },
          "execution_count": 176,
          "metadata": {},
          "output_type": "execute_result"
        }
      ],
      "source": [
        "map_neighbor['NWAmes']"
      ]
    },
    {
      "cell_type": "code",
      "execution_count": null,
      "metadata": {
        "colab": {
          "background_save": true
        },
        "id": "WfCSXxVqPiIA"
      },
      "outputs": [],
      "source": [
        "\n",
        "\n",
        "train_df[0:1,('Neighborhood')]"
      ]
    },
    {
      "cell_type": "code",
      "execution_count": null,
      "metadata": {
        "id": "d7u1TtNPNgO2"
      },
      "outputs": [],
      "source": [
        "def reval_Neighborhood(feature_explorer):\n",
        "  i=0\n",
        "  for hood in train_df['Neighborhood']:\n",
        "    train_df.loc[i:i+1,('Neighborhood')] = map_neighbor[hood]\n",
        "    i+=1\n",
        "  i=0  \n",
        "  for hood in test_df['Neighborhood']:\n",
        "    test_df.loc[i:i+1,('Neighborhood')] = map_neighbor[hood]\n",
        "    i+=1    \n"
      ]
    },
    {
      "cell_type": "code",
      "execution_count": null,
      "metadata": {
        "id": "fdlxxhnLRFk7"
      },
      "outputs": [],
      "source": [
        "reval_Neighborhood(feature_explorer)\n",
        "train_df['Neighborhood']"
      ]
    },
    {
      "cell_type": "code",
      "execution_count": null,
      "metadata": {
        "id": "TNPzJhC8Xb_-"
      },
      "outputs": [],
      "source": [
        "train_df.Neighborhood[0:50]"
      ]
    },
    {
      "cell_type": "code",
      "execution_count": null,
      "metadata": {
        "id": "Z68rHKNpuNzm"
      },
      "outputs": [],
      "source": [
        "def feature_explore(feature1, saleprice):\n",
        "  plt.figure()\n",
        "  plt.ylabel('feature1')\n",
        "  plt.xlabel('saleprice')\n",
        "\n",
        "  plt.scatter(saleprice,feature1)\n",
        "  #plt.scatter(saleprice, feature2)\n",
        "  #plt.plot(saleprice, feature1, label=\"feature1\")\n",
        "  #plt.plot(saleprice, feature2, label=\"feature2\")\n",
        "  plt.legend()\n",
        "  '''\n",
        "  highest_loss = max(feature1)\n",
        "  lowest_loss = min(feature1)\n",
        "  delta = highest_loss - lowest_loss\n",
        "  y_top = highest_loss + (delta * 0.05)\n",
        "  y_bottom = lowest_loss - (delta * 0.05)\n",
        "  plt.ylim(y_bottom, y_top)\n",
        "  '''\n",
        "  plt.show()  "
      ]
    },
    {
      "cell_type": "code",
      "execution_count": null,
      "metadata": {
        "colab": {
          "base_uri": "https://localhost:8080/",
          "height": 296
        },
        "id": "Z5Ir6XwBv5Lc",
        "outputId": "70e749ec-f766-48bf-9813-2ba8e0d6bd43"
      },
      "outputs": [
        {
          "name": "stderr",
          "output_type": "stream",
          "text": [
            "WARNING:matplotlib.legend:No handles with labels found to put in legend.\n"
          ]
        },
        {
          "data": {
            "image/png": "[encoded data removed]",
            "text/plain": [
              "<Figure size 432x288 with 1 Axes>"
            ]
          },
          "metadata": {},
          "output_type": "display_data"
        }
      ],
      "source": [
        "feature_explore(feature_explorer['feat'], \n",
        "                feature_explorer['aveprice'])"
      ]
    },
    {
      "cell_type": "markdown",
      "source": [
        "Manually convert string features into buckets"
      ],
      "metadata": {
        "id": "gOB_3O4VZDcv"
      }
    },
    {
      "cell_type": "code",
      "execution_count": null,
      "metadata": {
        "id": "GP-1reoUGupZ"
      },
      "outputs": [],
      "source": [
        "#Condition1\n",
        "codemaps = {'Condition1_codemap' : {\n",
        "    'RRNn': 3,\n",
        "    'RRAe': 1,\n",
        "    'RRNe': 2,\n",
        "    'PosA': 3,\n",
        "    'PosN': 3,\n",
        "    'Feedr': 1,\n",
        "    'RRAn': 2,\n",
        "    'Norm': 2,\n",
        "    'Artery': 1,\n",
        "    2: 2,\n",
        "    1: 2,\n",
        "    3: 2\n",
        "},\n",
        "\n",
        "'ExterCond_codemap' : {\n",
        "    'TA' : 2,\n",
        "    'Gd' : 2,\n",
        "    'Fa' : 1,\n",
        "    'Ex' : 2,\n",
        "    'Po' : 1,\n",
        "     2: 2,\n",
        "    1: 2,\n",
        "    3: 2\n",
        "},\n",
        "\n",
        "'ExterQual_codemap' : {\n",
        "    'TA' : 2,\n",
        "    'Gd' : 3,\n",
        "    'Fa' : 1,\n",
        "    'Ex' : 4,\n",
        "     2: 2,\n",
        "    1: 2,\n",
        "    3: 2,\n",
        "    4: 2 \n",
        "}\n",
        "}\n",
        "\n",
        "feature = ['Condition1', 'ExterCond','ExterQual','Neighborhood']\n",
        "\n",
        "def neighborhood():\n",
        "  train_df['Neighborhood'].loc[(train_df['SalePrice'] > 270000)] = 3\n",
        "  train_df['Neighborhood'].loc[(train_df['SalePrice'].between(175000, 270000))] = 2\n",
        "  train_df['Neighborhood'].loc[(train_df['SalePrice'] < 175000)] = 1\n",
        "\n",
        "  test_df['Neighborhood'].loc[(test_df['SalePrice'] > 270000)] = 3\n",
        "  test_df['Neighborhood'].loc[(test_df['SalePrice'].between(175000, 270000))] = 2\n",
        "  test_df['Neighborhood'].loc[(test_df['SalePrice'] < 175000)] = 1"
      ]
    },
    {
      "cell_type": "code",
      "execution_count": null,
      "metadata": {
        "colab": {
          "base_uri": "https://localhost:8080/"
        },
        "id": "gK9W8cMaL7lE",
        "outputId": "6568283a-4fd2-4d1b-9b87-9da3bd9b41ed"
      },
      "outputs": [
        {
          "name": "stderr",
          "output_type": "stream",
          "text": [
            "/usr/local/lib/python3.7/dist-packages/pandas/core/indexing.py:1732: SettingWithCopyWarning: \n",
            "A value is trying to be set on a copy of a slice from a DataFrame\n",
            "\n",
            "See the caveats in the documentation: https://pandas.pydata.org/pandas-docs/stable/user_guide/indexing.html#returning-a-view-versus-a-copy\n",
            "  self._setitem_single_block(indexer, value, name)\n"
          ]
        }
      ],
      "source": [
        "neighborhood()\n"
      ]
    },
    {
      "cell_type": "code",
      "execution_count": null,
      "metadata": {
        "colab": {
          "base_uri": "https://localhost:8080/"
        },
        "id": "xx6dgUxTU149",
        "outputId": "1ebf2111-3c72-4d51-903a-a5e66b972bef"
      },
      "outputs": [
        {
          "data": {
            "text/plain": [
              "array(['NAmes', 'Gilbert', 'StoneBr', 'BrDale', 'NPkVill', 'NridgHt',\n",
              "       'Blmngtn', 'NoRidge', 'Somerst', 'SawyerW', 'Sawyer', 'NWAmes',\n",
              "       'OldTown', 'BrkSide', 'ClearCr', 'SWISU', 'Edwards', 'CollgCr',\n",
              "       'Crawfor', 'Blueste', 'IDOTRR', 'Mitchel', 'Timber', 'MeadowV',\n",
              "       'Veenker'], dtype=object)"
            ]
          },
          "execution_count": 83,
          "metadata": {},
          "output_type": "execute_result"
        }
      ],
      "source": [
        "test_df['Neighborhood'].unique()"
      ]
    },
    {
      "cell_type": "markdown",
      "source": [
        "Engineer features"
      ],
      "metadata": {
        "id": "l2wOfeh8ZT59"
      }
    },
    {
      "cell_type": "code",
      "execution_count": null,
      "metadata": {
        "id": "epaiJaRCFCLK"
      },
      "outputs": [],
      "source": [
        "\n",
        "def feat_lin_engineer(feature, codemap):\n",
        "  index = 0\n",
        "  for feat in train_df[feature]:\n",
        "    train_df[feature][index] = codemap[feat]\n",
        "    test_df[feature][index] = codemap[feat]\n",
        "    index+=1\n",
        " "
      ]
    },
    {
      "cell_type": "code",
      "execution_count": null,
      "metadata": {
        "colab": {
          "base_uri": "https://localhost:8080/"
        },
        "id": "9X8LEbWPPQWI",
        "outputId": "7bae1833-c02e-46c0-c8a3-1e1ac952204b"
      },
      "outputs": [
        {
          "name": "stdout",
          "output_type": "stream",
          "text": [
            "Condition1_codemap\n",
            "ExterCond_codemap\n",
            "ExterQual_codemap\n"
          ]
        }
      ],
      "source": [
        "for feat in codemaps:\n",
        "  print(feat)"
      ]
    },
    {
      "cell_type": "markdown",
      "source": [
        "Call feature engineer loop and convert to float dtype"
      ],
      "metadata": {
        "id": "ZqP8aBo_Zabn"
      }
    },
    {
      "cell_type": "code",
      "execution_count": null,
      "metadata": {
        "id": "FNhDvJGo8F2Q"
      },
      "outputs": [],
      "source": [
        "neighborhood()\n",
        "def engineer_all(train_df, test_df):\n",
        "  i=0\n",
        "  for feat in codemaps:\n",
        "    feat_lin_engineer(feature[i], codemaps[feat])\n",
        "    train_df = train_df.astype({feature[i]:'float'}, copy=False)\n",
        "    test_df = test_df.astype({feature[i]:'float'}, copy=False)\n",
        "    np.dtype(train_df[feature[i]])\n",
        "    i+=1"
      ]
    },
    {
      "cell_type": "code",
      "execution_count": null,
      "metadata": {
        "id": "bun0aZYaTLM6"
      },
      "outputs": [],
      "source": [
        "engineer_all(train_df, test_df)"
      ]
    },
    {
      "cell_type": "code",
      "execution_count": null,
      "metadata": {
        "colab": {
          "base_uri": "https://localhost:8080/"
        },
        "id": "vWuk_N14AXdJ",
        "outputId": "f1c9d5e2-4484-4fbf-cb02-a4cb3532acc7"
      },
      "outputs": [
        {
          "data": {
            "text/plain": [
              "944     2\n",
              "657     2\n",
              "40      2\n",
              "832     2\n",
              "290     2\n",
              "1020    2\n",
              "1187    2\n",
              "186     2\n",
              "89      2\n",
              "320     2\n",
              "Name: ExterCond, dtype: object"
            ]
          },
          "execution_count": 157,
          "metadata": {},
          "output_type": "execute_result"
        }
      ],
      "source": [
        "train_df['ExterCond'][20:30]"
      ]
    },
    {
      "cell_type": "code",
      "execution_count": null,
      "metadata": {
        "colab": {
          "base_uri": "https://localhost:8080/"
        },
        "id": "oQx3w_x58uLO",
        "outputId": "088f8e9d-9cd5-48a3-86e3-097860941d8a"
      },
      "outputs": [
        {
          "data": {
            "text/plain": [
              "dtype('float64')"
            ]
          },
          "execution_count": 66,
          "metadata": {},
          "output_type": "execute_result"
        }
      ],
      "source": [
        "train_df = train_df.astype({'ExterQual':'float'}, copy=False)\n",
        "np.dtype(train_df['ExterQual'])"
      ]
    },
    {
      "cell_type": "code",
      "execution_count": null,
      "metadata": {
        "id": "FQ9fFduEVsfL"
      },
      "outputs": [],
      "source": [
        "#from sklearn.model_selection import train_test_split\n",
        "#train_df, train_df['SalePrice'], test_df, test_df['SalePrice'] = train_test_split(train_df,train_df['SalePrice'],test_size=0.2,train_size=0.8)"
      ]
    },
    {
      "cell_type": "markdown",
      "source": [
        "Normalize data"
      ],
      "metadata": {
        "id": "BPlr8Kc3ZpHh"
      }
    },
    {
      "cell_type": "code",
      "execution_count": null,
      "metadata": {
        "colab": {
          "base_uri": "https://localhost:8080/"
        },
        "id": "IrIBM238Nbns",
        "outputId": "efa63687-fdf0-4a5e-a753-46951c301830"
      },
      "outputs": [
        {
          "name": "stderr",
          "output_type": "stream",
          "text": [
            "/usr/local/lib/python3.7/dist-packages/ipykernel_launcher.py:6: FutureWarning: Dropping of nuisance columns in DataFrame reductions (with 'numeric_only=None') is deprecated; in a future version this will raise TypeError.  Select only valid columns before calling the reduction.\n",
            "  \n",
            "/usr/local/lib/python3.7/dist-packages/ipykernel_launcher.py:7: FutureWarning: Dropping of nuisance columns in DataFrame reductions (with 'numeric_only=None') is deprecated; in a future version this will raise TypeError.  Select only valid columns before calling the reduction.\n",
            "  import sys\n"
          ]
        }
      ],
      "source": [
        "train_df_mean = train_df.mean()\n",
        "train_df_std = train_df.std()\n",
        "train_df_norm = (train_df - train_df_mean)/train_df_std\n",
        "\n",
        "# Calculate the Z-scores of each column in the test set.\n",
        "test_df_mean = test_df.mean()\n",
        "test_df_std = test_df.std()\n",
        "test_df_norm = (test_df - test_df_mean)/test_df_std"
      ]
    },
    {
      "cell_type": "code",
      "execution_count": null,
      "metadata": {
        "colab": {
          "base_uri": "https://localhost:8080/"
        },
        "id": "VTUlWJ2jGoMY",
        "outputId": "1926e9fd-9510-4fd7-e6e7-6906d7ce2a85"
      },
      "outputs": [
        {
          "data": {
            "text/plain": [
              "621     0.7\n",
              "454     0.1\n",
              "866     0.9\n",
              "209    -0.5\n",
              "902    -0.0\n",
              "       ... \n",
              "388     0.1\n",
              "103     0.2\n",
              "38     -0.9\n",
              "865    -0.4\n",
              "1125   -0.8\n",
              "Name: SalePrice, Length: 1460, dtype: float64"
            ]
          },
          "execution_count": 34,
          "metadata": {},
          "output_type": "execute_result"
        }
      ],
      "source": [
        "train_df_norm['SalePrice']\n",
        "#test_df['Exterior1st_VinylSd']"
      ]
    },
    {
      "cell_type": "code",
      "execution_count": null,
      "metadata": {
        "id": "kvCYYeryN-BE"
      },
      "outputs": [],
      "source": [
        "print('test_df_mean= ')\n",
        "print(train_df_mean['SalePrice'])\n",
        "print('test_df_std= ')\n",
        "print(train_df_std['SalePrice'])\n",
        "compareDF = pd.DataFrame({'real':train_df['SalePrice'], 'normalized':train_df_norm['SalePrice']})\n",
        "compareDF['SalePrice'] = compareDF['normalized']\n",
        "compareDF['SalePrice'] = compareDF['SalePrice'] * 79442.50288288662  + 180921.19589041095\n",
        "\n",
        "compareDF\n",
        "#FullBath HalfBath LotArea OverallCond SaleCondition SaleType 1stFlrSF 2ndFlrSF YrSold YearBuilt GarageCars BsmtFinSF1 BsmtFinSF2"
      ]
    },
    {
      "cell_type": "code",
      "execution_count": null,
      "metadata": {
        "id": "xrRZXvfZRRGG"
      },
      "outputs": [],
      "source": [
        "features = ['Condition1', 'FullBath', 'HalfBath', 'LotArea', 'OverallCond', 'Neighborhood', 'ExterCond','ExterQual', '1stFlrSF', '2ndFlrSF', 'YrSold', 'YearBuilt', 'GarageCars', 'BsmtFinSF1', 'BsmtFinSF2']"
      ]
    },
    {
      "cell_type": "code",
      "execution_count": null,
      "metadata": {
        "id": "kLm4IrRcPdg9"
      },
      "outputs": [],
      "source": [
        "train_df['synthetic'] = train_df['1stFlrSF'] + train_df['2ndFlrSF'] + train_df['BsmtFinSF1']"
      ]
    },
    {
      "cell_type": "code",
      "execution_count": null,
      "metadata": {
        "colab": {
          "base_uri": "https://localhost:8080/"
        },
        "id": "jJmwLnRSVxvb",
        "outputId": "73f7ae12-6f69-42ad-b8d2-f0fea65815e5"
      },
      "outputs": [
        {
          "data": {
            "text/plain": [
              "7"
            ]
          },
          "execution_count": 22,
          "metadata": {},
          "output_type": "execute_result"
        }
      ],
      "source": [
        "train_df['Id'][6]"
      ]
    },
    {
      "cell_type": "code",
      "execution_count": null,
      "metadata": {
        "id": "96c5emCmQ0Sd"
      },
      "outputs": [],
      "source": [
        "list(train_df_norm)"
      ]
    },
    {
      "cell_type": "code",
      "execution_count": null,
      "metadata": {
        "colab": {
          "base_uri": "https://localhost:8080/"
        },
        "id": "UvzA73zGQ8An",
        "outputId": "b71d3364-b713-413f-f634-d500daf8a954"
      },
      "outputs": [
        {
          "data": {
            "text/plain": [
              "['Condition1',\n",
              " 'FullBath',\n",
              " 'HalfBath',\n",
              " 'LotArea',\n",
              " 'OverallCond',\n",
              " 'Neighborhood',\n",
              " 'ExterCond',\n",
              " 'ExterQual',\n",
              " '1stFlrSF',\n",
              " '2ndFlrSF',\n",
              " 'YrSold',\n",
              " 'YearBuilt',\n",
              " 'GarageCars',\n",
              " 'BsmtFinSF1',\n",
              " 'BsmtFinSF2',\n",
              " 'SalePrice']"
            ]
          },
          "execution_count": 70,
          "metadata": {},
          "output_type": "execute_result"
        }
      ],
      "source": [
        "features_sale = features + ['SalePrice']\n",
        "features_sale"
      ]
    },
    {
      "cell_type": "code",
      "execution_count": null,
      "metadata": {
        "colab": {
          "base_uri": "https://localhost:8080/"
        },
        "id": "R68hT2yYHiew",
        "outputId": "d25b0261-aa3e-4575-e3e6-253de1d95038"
      },
      "outputs": [
        {
          "data": {
            "text/plain": [
              "['Condition1',\n",
              " 'FullBath',\n",
              " 'HalfBath',\n",
              " 'LotArea',\n",
              " 'OverallCond',\n",
              " 'Neighborhood',\n",
              " 'ExterCond',\n",
              " 'ExterQual',\n",
              " '1stFlrSF',\n",
              " '2ndFlrSF',\n",
              " 'YrSold',\n",
              " 'YearBuilt',\n",
              " 'GarageCars',\n",
              " 'BsmtFinSF1',\n",
              " 'BsmtFinSF2',\n",
              " 'SalePrice']"
            ]
          },
          "execution_count": 71,
          "metadata": {},
          "output_type": "execute_result"
        }
      ],
      "source": [
        "train_df_norm1 = train_df_norm[features_sale]\n",
        "list(train_df_norm1)"
      ]
    },
    {
      "cell_type": "code",
      "execution_count": null,
      "metadata": {
        "id": "h8I7KGSQNsZk"
      },
      "outputs": [],
      "source": [
        "feature_columns = []\n",
        "\n",
        "for feat in features:\n",
        "  feat = tf.feature_column.numeric_column(feat)\n",
        "  feature_columns.append(feat)\n",
        "\n",
        "\n",
        "\n",
        "# Convert the list of feature columns into a layer that will later be fed into\n",
        "# the model. \n",
        "my_feature_layer = tf.keras.layers.DenseFeatures(feature_columns)"
      ]
    },
    {
      "cell_type": "code",
      "execution_count": null,
      "metadata": {
        "id": "TVjsYlERS83S"
      },
      "outputs": [],
      "source": [
        "def plot_the_loss_curve(epochs, mae_training, mae_validation):\n",
        "  \"\"\"Plot a curve of loss vs. epoch.\"\"\"\n",
        "\n",
        "  plt.figure()\n",
        "  plt.xlabel(\"Epoch\")\n",
        "  plt.ylabel(\"Root Mean Squared Error\")\n",
        "\n",
        "  plt.plot(epochs[1:], mae_training[1:], label=\"Training Loss\")\n",
        "  plt.plot(epochs[1:], mae_validation[1:], label=\"Validation Loss\")\n",
        "  plt.legend()\n",
        "  \n",
        "  # We're not going to plot the first epoch, since the loss on the first epoch\n",
        "  # is often substantially greater than the loss for other epochs.\n",
        "  merged_mae_lists = mae_training[1:] + mae_validation[1:]\n",
        "  highest_loss = max(merged_mae_lists)\n",
        "  lowest_loss = min(merged_mae_lists)\n",
        "  delta = highest_loss - lowest_loss\n",
        "  print(delta)\n",
        "\n",
        "  top_of_y_axis = highest_loss + (delta * 0.05)\n",
        "  bottom_of_y_axis = lowest_loss - (delta * 0.05)\n",
        "   \n",
        "  plt.ylim([bottom_of_y_axis, top_of_y_axis])\n",
        "  plt.show()  \n",
        "\n",
        "def plot_loss(epochs, loss):\n",
        "  plt.figure()\n",
        "  plt.ylabel('Loss')\n",
        "  plt.xlabel('Epoch')\n",
        "\n",
        "  plt.plot(epochs[1:], loss[1:], label=\"loss\")\n",
        "  plt.legend()\n",
        "  \n",
        "  highest_loss = max(loss[1:])\n",
        "  lowest_loss = min(loss[1:])\n",
        "  delta = highest_loss - lowest_loss\n",
        "  y_top = highest_loss + (delta * 0.05)\n",
        "  y_bottom = lowest_loss - (delta * 0.05)\n",
        "  plt.ylim(y_bottom, y_top)\n",
        "  plt.show()  "
      ]
    },
    {
      "cell_type": "code",
      "execution_count": null,
      "metadata": {
        "id": "OJ84zmUITPdb"
      },
      "outputs": [],
      "source": [
        "#SIMPLE LINEAR REGRESSION MODEL"
      ]
    },
    {
      "cell_type": "code",
      "execution_count": null,
      "metadata": {
        "id": "Yw4Pazv5TF3t"
      },
      "outputs": [],
      "source": [
        "def create_model(my_learning_rate, feature_layer):\n",
        "  \"\"\"Create and compile a simple linear regression model.\"\"\"\n",
        "  # Most simple tf.keras models are sequential.\n",
        "  model = tf.keras.models.Sequential()\n",
        "\n",
        "  # Add the layer containing the feature columns to the model.\n",
        "  model.add(feature_layer)\n",
        "\n",
        "  # Add one linear layer to the model to yield a simple linear regressor.\n",
        "  model.add(tf.keras.layers.Dense(units=1, input_shape=(1,)))\n",
        "\n",
        "  # Construct the layers into a model that TensorFlow can execute.\n",
        "  model.compile(optimizer=tf.keras.optimizers.RMSprop(lr=my_learning_rate),\n",
        "                loss=\"mean_squared_error\",\n",
        "                metrics=[tf.keras.metrics.MeanSquaredError()])\n",
        "\n",
        "  return model  \n",
        "\n",
        "\n",
        "def train_model(model, dataset, epochs, batch_size, label_name, my_validation_split = 0.2):\n",
        "  \"\"\"Feed a dataset into the model in order to train it.\"\"\"\n",
        "\n",
        "  # Split the dataset into features and label.\n",
        "  features = {name:np.array(value) for name, value in dataset.items()}\n",
        "  label = np.array(features.pop(label_name))\n",
        "  history = model.fit(x=features, y=label, batch_size=batch_size,\n",
        "                      epochs=epochs, validation_split = my_validation_split, shuffle=True)\n",
        "\n",
        "  # Get details that will be useful for plotting the loss curve.\n",
        "  epochs = history.epoch\n",
        "  hist = pd.DataFrame(history.history)\n",
        "  rmse = hist[\"mean_squared_error\"]\n",
        "\n",
        "  return epochs, rmse, history.history "
      ]
    },
    {
      "cell_type": "code",
      "execution_count": null,
      "metadata": {
        "colab": {
          "base_uri": "https://localhost:8080/",
          "height": 1000
        },
        "id": "zQPicPqHTd8k",
        "outputId": "2f9dfca3-a137-47ca-c084-47a4dbeac982"
      },
      "outputs": [
        {
          "name": "stdout",
          "output_type": "stream",
          "text": [
            "Epoch 1/50\n"
          ]
        },
        {
          "name": "stderr",
          "output_type": "stream",
          "text": [
            "/usr/local/lib/python3.7/dist-packages/keras/optimizers/optimizer_v2/rmsprop.py:135: UserWarning: The `lr` argument is deprecated, use `learning_rate` instead.\n",
            "  super(RMSprop, self).__init__(name, **kwargs)\n",
            "WARNING:tensorflow:Layers in a Sequential model should only have a single input tensor. Received: inputs={'Condition1': <tf.Tensor 'IteratorGetNext:4' shape=(None,) dtype=float32>, 'FullBath': <tf.Tensor 'IteratorGetNext:7' shape=(None,) dtype=float32>, 'HalfBath': <tf.Tensor 'IteratorGetNext:9' shape=(None,) dtype=float32>, 'LotArea': <tf.Tensor 'IteratorGetNext:10' shape=(None,) dtype=float32>, 'OverallCond': <tf.Tensor 'IteratorGetNext:12' shape=(None,) dtype=float32>, 'Neighborhood': <tf.Tensor 'IteratorGetNext:11' shape=(None,) dtype=float32>, 'ExterCond': <tf.Tensor 'IteratorGetNext:5' shape=(None,) dtype=float32>, 'ExterQual': <tf.Tensor 'IteratorGetNext:6' shape=(None,) dtype=float32>, '1stFlrSF': <tf.Tensor 'IteratorGetNext:0' shape=(None,) dtype=float32>, '2ndFlrSF': <tf.Tensor 'IteratorGetNext:1' shape=(None,) dtype=float32>, 'YrSold': <tf.Tensor 'IteratorGetNext:14' shape=(None,) dtype=float32>, 'YearBuilt': <tf.Tensor 'IteratorGetNext:13' shape=(None,) dtype=float32>, 'GarageCars': <tf.Tensor 'IteratorGetNext:8' shape=(None,) dtype=float32>, 'BsmtFinSF1': <tf.Tensor 'IteratorGetNext:2' shape=(None,) dtype=float32>, 'BsmtFinSF2': <tf.Tensor 'IteratorGetNext:3' shape=(None,) dtype=float32>}. Consider rewriting this model with the Functional API.\n",
            "WARNING:tensorflow:Layers in a Sequential model should only have a single input tensor. Received: inputs={'Condition1': <tf.Tensor 'IteratorGetNext:4' shape=(None,) dtype=float32>, 'FullBath': <tf.Tensor 'IteratorGetNext:7' shape=(None,) dtype=float32>, 'HalfBath': <tf.Tensor 'IteratorGetNext:9' shape=(None,) dtype=float32>, 'LotArea': <tf.Tensor 'IteratorGetNext:10' shape=(None,) dtype=float32>, 'OverallCond': <tf.Tensor 'IteratorGetNext:12' shape=(None,) dtype=float32>, 'Neighborhood': <tf.Tensor 'IteratorGetNext:11' shape=(None,) dtype=float32>, 'ExterCond': <tf.Tensor 'IteratorGetNext:5' shape=(None,) dtype=float32>, 'ExterQual': <tf.Tensor 'IteratorGetNext:6' shape=(None,) dtype=float32>, '1stFlrSF': <tf.Tensor 'IteratorGetNext:0' shape=(None,) dtype=float32>, '2ndFlrSF': <tf.Tensor 'IteratorGetNext:1' shape=(None,) dtype=float32>, 'YrSold': <tf.Tensor 'IteratorGetNext:14' shape=(None,) dtype=float32>, 'YearBuilt': <tf.Tensor 'IteratorGetNext:13' shape=(None,) dtype=float32>, 'GarageCars': <tf.Tensor 'IteratorGetNext:8' shape=(None,) dtype=float32>, 'BsmtFinSF1': <tf.Tensor 'IteratorGetNext:2' shape=(None,) dtype=float32>, 'BsmtFinSF2': <tf.Tensor 'IteratorGetNext:3' shape=(None,) dtype=float32>}. Consider rewriting this model with the Functional API.\n"
          ]
        },
        {
          "name": "stdout",
          "output_type": "stream",
          "text": [
            "\r1/6 [====>.........................] - ETA: 2s - loss: 2.6569 - mean_squared_error: 2.6569"
          ]
        },
        {
          "name": "stderr",
          "output_type": "stream",
          "text": [
            "WARNING:tensorflow:Layers in a Sequential model should only have a single input tensor. Received: inputs={'Condition1': <tf.Tensor 'IteratorGetNext:4' shape=(None,) dtype=float32>, 'FullBath': <tf.Tensor 'IteratorGetNext:7' shape=(None,) dtype=float32>, 'HalfBath': <tf.Tensor 'IteratorGetNext:9' shape=(None,) dtype=float32>, 'LotArea': <tf.Tensor 'IteratorGetNext:10' shape=(None,) dtype=float32>, 'OverallCond': <tf.Tensor 'IteratorGetNext:12' shape=(None,) dtype=float32>, 'Neighborhood': <tf.Tensor 'IteratorGetNext:11' shape=(None,) dtype=float32>, 'ExterCond': <tf.Tensor 'IteratorGetNext:5' shape=(None,) dtype=float32>, 'ExterQual': <tf.Tensor 'IteratorGetNext:6' shape=(None,) dtype=float32>, '1stFlrSF': <tf.Tensor 'IteratorGetNext:0' shape=(None,) dtype=float32>, '2ndFlrSF': <tf.Tensor 'IteratorGetNext:1' shape=(None,) dtype=float32>, 'YrSold': <tf.Tensor 'IteratorGetNext:14' shape=(None,) dtype=float32>, 'YearBuilt': <tf.Tensor 'IteratorGetNext:13' shape=(None,) dtype=float32>, 'GarageCars': <tf.Tensor 'IteratorGetNext:8' shape=(None,) dtype=float32>, 'BsmtFinSF1': <tf.Tensor 'IteratorGetNext:2' shape=(None,) dtype=float32>, 'BsmtFinSF2': <tf.Tensor 'IteratorGetNext:3' shape=(None,) dtype=float32>}. Consider rewriting this model with the Functional API.\n"
          ]
        },
        {
          "name": "stdout",
          "output_type": "stream",
          "text": [
            "\b\b\b\b\b\b\b\b\b\b\b\b\b\b\b\b\b\b\b\b\b\b\b\b\b\b\b\b\b\b\b\b\b\b\b\b\b\b\b\b\b\b\b\b\b\b\b\b\b\b\b\b\b\b\b\b\b\b\b\b\b\b\b\b\b\b\b\b\b\b\b\b\b\b\b\b\b\b\b\b\b\b\b\b\b\b\b\b\b\b\r6/6 [==============================] - 1s 48ms/step - loss: 2.9571 - mean_squared_error: 2.9571 - val_loss: 3.0286 - val_mean_squared_error: 3.0286\n",
            "Epoch 2/50\n",
            "6/6 [==============================] - 0s 6ms/step - loss: 2.5685 - mean_squared_error: 2.5685 - val_loss: 2.7128 - val_mean_squared_error: 2.7128\n",
            "Epoch 3/50\n",
            "6/6 [==============================] - 0s 7ms/step - loss: 2.3071 - mean_squared_error: 2.3071 - val_loss: 2.4538 - val_mean_squared_error: 2.4538\n",
            "Epoch 4/50\n",
            "6/6 [==============================] - 0s 7ms/step - loss: 2.0848 - mean_squared_error: 2.0848 - val_loss: 2.2263 - val_mean_squared_error: 2.2263\n",
            "Epoch 5/50\n",
            "6/6 [==============================] - 0s 6ms/step - loss: 1.8911 - mean_squared_error: 1.8911 - val_loss: 2.0270 - val_mean_squared_error: 2.0270\n",
            "Epoch 6/50\n",
            "6/6 [==============================] - 0s 8ms/step - loss: 1.7165 - mean_squared_error: 1.7165 - val_loss: 1.8455 - val_mean_squared_error: 1.8455\n",
            "Epoch 7/50\n",
            "6/6 [==============================] - 0s 7ms/step - loss: 1.5578 - mean_squared_error: 1.5578 - val_loss: 1.6801 - val_mean_squared_error: 1.6801\n",
            "Epoch 8/50\n",
            "6/6 [==============================] - 0s 7ms/step - loss: 1.4142 - mean_squared_error: 1.4142 - val_loss: 1.5259 - val_mean_squared_error: 1.5259\n",
            "Epoch 9/50\n",
            "6/6 [==============================] - 0s 7ms/step - loss: 1.2841 - mean_squared_error: 1.2841 - val_loss: 1.3888 - val_mean_squared_error: 1.3888\n",
            "Epoch 10/50\n",
            "6/6 [==============================] - 0s 7ms/step - loss: 1.1666 - mean_squared_error: 1.1666 - val_loss: 1.2590 - val_mean_squared_error: 1.2590\n",
            "Epoch 11/50\n",
            "6/6 [==============================] - 0s 8ms/step - loss: 1.0603 - mean_squared_error: 1.0603 - val_loss: 1.1444 - val_mean_squared_error: 1.1444\n",
            "Epoch 12/50\n",
            "6/6 [==============================] - 0s 7ms/step - loss: 0.9640 - mean_squared_error: 0.9640 - val_loss: 1.0409 - val_mean_squared_error: 1.0409\n",
            "Epoch 13/50\n",
            "6/6 [==============================] - 0s 7ms/step - loss: 0.8774 - mean_squared_error: 0.8774 - val_loss: 0.9462 - val_mean_squared_error: 0.9462\n",
            "Epoch 14/50\n",
            "6/6 [==============================] - 0s 7ms/step - loss: 0.7996 - mean_squared_error: 0.7996 - val_loss: 0.8604 - val_mean_squared_error: 0.8604\n",
            "Epoch 15/50\n",
            "6/6 [==============================] - 0s 6ms/step - loss: 0.7289 - mean_squared_error: 0.7289 - val_loss: 0.7831 - val_mean_squared_error: 0.7831\n",
            "Epoch 16/50\n",
            "6/6 [==============================] - 0s 7ms/step - loss: 0.6674 - mean_squared_error: 0.6674 - val_loss: 0.7110 - val_mean_squared_error: 0.7110\n",
            "Epoch 17/50\n",
            "6/6 [==============================] - 0s 7ms/step - loss: 0.6092 - mean_squared_error: 0.6092 - val_loss: 0.6470 - val_mean_squared_error: 0.6470\n",
            "Epoch 18/50\n",
            "6/6 [==============================] - 0s 7ms/step - loss: 0.5574 - mean_squared_error: 0.5574 - val_loss: 0.5887 - val_mean_squared_error: 0.5887\n",
            "Epoch 19/50\n",
            "6/6 [==============================] - 0s 6ms/step - loss: 0.5094 - mean_squared_error: 0.5094 - val_loss: 0.5368 - val_mean_squared_error: 0.5368\n",
            "Epoch 20/50\n",
            "6/6 [==============================] - 0s 6ms/step - loss: 0.4671 - mean_squared_error: 0.4671 - val_loss: 0.4872 - val_mean_squared_error: 0.4872\n",
            "Epoch 21/50\n",
            "6/6 [==============================] - 0s 8ms/step - loss: 0.4279 - mean_squared_error: 0.4279 - val_loss: 0.4435 - val_mean_squared_error: 0.4435\n",
            "Epoch 22/50\n",
            "6/6 [==============================] - 0s 6ms/step - loss: 0.3930 - mean_squared_error: 0.3930 - val_loss: 0.4060 - val_mean_squared_error: 0.4060\n",
            "Epoch 23/50\n",
            "6/6 [==============================] - 0s 7ms/step - loss: 0.3615 - mean_squared_error: 0.3615 - val_loss: 0.3709 - val_mean_squared_error: 0.3709\n",
            "Epoch 24/50\n",
            "6/6 [==============================] - 0s 6ms/step - loss: 0.3325 - mean_squared_error: 0.3325 - val_loss: 0.3396 - val_mean_squared_error: 0.3396\n",
            "Epoch 25/50\n",
            "6/6 [==============================] - 0s 7ms/step - loss: 0.3077 - mean_squared_error: 0.3077 - val_loss: 0.3134 - val_mean_squared_error: 0.3134\n",
            "Epoch 26/50\n",
            "6/6 [==============================] - 0s 7ms/step - loss: 0.2858 - mean_squared_error: 0.2858 - val_loss: 0.2888 - val_mean_squared_error: 0.2888\n",
            "Epoch 27/50\n",
            "6/6 [==============================] - 0s 6ms/step - loss: 0.2664 - mean_squared_error: 0.2664 - val_loss: 0.2696 - val_mean_squared_error: 0.2696\n",
            "Epoch 28/50\n",
            "6/6 [==============================] - 0s 6ms/step - loss: 0.2500 - mean_squared_error: 0.2500 - val_loss: 0.2530 - val_mean_squared_error: 0.2530\n",
            "Epoch 29/50\n",
            "6/6 [==============================] - 0s 6ms/step - loss: 0.2349 - mean_squared_error: 0.2349 - val_loss: 0.2363 - val_mean_squared_error: 0.2363\n",
            "Epoch 30/50\n",
            "6/6 [==============================] - 0s 10ms/step - loss: 0.2222 - mean_squared_error: 0.2222 - val_loss: 0.2240 - val_mean_squared_error: 0.2240\n",
            "Epoch 31/50\n",
            "6/6 [==============================] - 0s 6ms/step - loss: 0.2122 - mean_squared_error: 0.2122 - val_loss: 0.2149 - val_mean_squared_error: 0.2149\n",
            "Epoch 32/50\n",
            "6/6 [==============================] - 0s 9ms/step - loss: 0.2023 - mean_squared_error: 0.2023 - val_loss: 0.2045 - val_mean_squared_error: 0.2045\n",
            "Epoch 33/50\n",
            "6/6 [==============================] - 0s 8ms/step - loss: 0.1940 - mean_squared_error: 0.1940 - val_loss: 0.1967 - val_mean_squared_error: 0.1967\n",
            "Epoch 34/50\n",
            "6/6 [==============================] - 0s 7ms/step - loss: 0.1870 - mean_squared_error: 0.1870 - val_loss: 0.1903 - val_mean_squared_error: 0.1903\n",
            "Epoch 35/50\n",
            "6/6 [==============================] - 0s 9ms/step - loss: 0.1817 - mean_squared_error: 0.1817 - val_loss: 0.1863 - val_mean_squared_error: 0.1863\n",
            "Epoch 36/50\n",
            "6/6 [==============================] - 0s 8ms/step - loss: 0.1781 - mean_squared_error: 0.1781 - val_loss: 0.1816 - val_mean_squared_error: 0.1816\n",
            "Epoch 37/50\n",
            "6/6 [==============================] - 0s 7ms/step - loss: 0.1732 - mean_squared_error: 0.1732 - val_loss: 0.1784 - val_mean_squared_error: 0.1784\n",
            "Epoch 38/50\n",
            "6/6 [==============================] - 0s 6ms/step - loss: 0.1699 - mean_squared_error: 0.1699 - val_loss: 0.1743 - val_mean_squared_error: 0.1743\n",
            "Epoch 39/50\n",
            "6/6 [==============================] - 0s 7ms/step - loss: 0.1675 - mean_squared_error: 0.1675 - val_loss: 0.1729 - val_mean_squared_error: 0.1729\n",
            "Epoch 40/50\n",
            "6/6 [==============================] - 0s 6ms/step - loss: 0.1656 - mean_squared_error: 0.1656 - val_loss: 0.1705 - val_mean_squared_error: 0.1705\n",
            "Epoch 41/50\n",
            "6/6 [==============================] - 0s 10ms/step - loss: 0.1646 - mean_squared_error: 0.1646 - val_loss: 0.1689 - val_mean_squared_error: 0.1689\n",
            "Epoch 42/50\n",
            "6/6 [==============================] - 0s 6ms/step - loss: 0.1640 - mean_squared_error: 0.1640 - val_loss: 0.1681 - val_mean_squared_error: 0.1681\n",
            "Epoch 43/50\n",
            "6/6 [==============================] - 0s 6ms/step - loss: 0.1626 - mean_squared_error: 0.1626 - val_loss: 0.1701 - val_mean_squared_error: 0.1701\n",
            "Epoch 44/50\n",
            "6/6 [==============================] - 0s 7ms/step - loss: 0.1622 - mean_squared_error: 0.1622 - val_loss: 0.1688 - val_mean_squared_error: 0.1688\n",
            "Epoch 45/50\n",
            "6/6 [==============================] - 0s 7ms/step - loss: 0.1623 - mean_squared_error: 0.1623 - val_loss: 0.1707 - val_mean_squared_error: 0.1707\n",
            "Epoch 46/50\n",
            "6/6 [==============================] - 0s 6ms/step - loss: 0.1627 - mean_squared_error: 0.1627 - val_loss: 0.1694 - val_mean_squared_error: 0.1694\n",
            "Epoch 47/50\n",
            "6/6 [==============================] - 0s 6ms/step - loss: 0.1622 - mean_squared_error: 0.1622 - val_loss: 0.1717 - val_mean_squared_error: 0.1717\n",
            "Epoch 48/50\n",
            "6/6 [==============================] - 0s 6ms/step - loss: 0.1626 - mean_squared_error: 0.1626 - val_loss: 0.1700 - val_mean_squared_error: 0.1700\n",
            "Epoch 49/50\n",
            "6/6 [==============================] - 0s 9ms/step - loss: 0.1618 - mean_squared_error: 0.1618 - val_loss: 0.1706 - val_mean_squared_error: 0.1706\n",
            "Epoch 50/50\n",
            "6/6 [==============================] - 0s 8ms/step - loss: 0.1627 - mean_squared_error: 0.1627 - val_loss: 0.1692 - val_mean_squared_error: 0.1692\n",
            "{'loss': [2.95708966255188, 2.5685389041900635, 2.3070921897888184, 2.084841012954712, 1.891089916229248, 1.7164556980133057, 1.557814121246338, 1.4142488241195679, 1.2840709686279297, 1.1665924787521362, 1.0603339672088623, 0.9640110731124878, 0.8774150609970093, 0.7995984554290771, 0.7289130687713623, 0.6673784255981445, 0.6091564893722534, 0.5573663115501404, 0.5093679428100586, 0.46705010533332825, 0.42790111899375916, 0.3929527997970581, 0.36149370670318604, 0.3325004577636719, 0.3077108561992645, 0.28579598665237427, 0.2663809359073639, 0.2500026226043701, 0.234895259141922, 0.2222147136926651, 0.21221083402633667, 0.20227248966693878, 0.1939530074596405, 0.18701820075511932, 0.1816892921924591, 0.17810559272766113, 0.17316743731498718, 0.16988974809646606, 0.1674862653017044, 0.1656470149755478, 0.16456983983516693, 0.16397880017757416, 0.16264930367469788, 0.16216465830802917, 0.16227228939533234, 0.1627153605222702, 0.1622282862663269, 0.16258694231510162, 0.1618332415819168, 0.16273459792137146], 'mean_squared_error': [2.95708966255188, 2.5685389041900635, 2.3070921897888184, 2.084841012954712, 1.891089916229248, 1.7164556980133057, 1.5578140020370483, 1.4142488241195679, 1.2840709686279297, 1.1665924787521362, 1.0603339672088623, 0.9640110731124878, 0.8774150609970093, 0.7995984554290771, 0.7289130687713623, 0.6673784255981445, 0.6091564893722534, 0.5573663115501404, 0.5093679428100586, 0.46705010533332825, 0.42790111899375916, 0.3929527699947357, 0.36149370670318604, 0.3325004577636719, 0.3077108561992645, 0.28579598665237427, 0.2663809657096863, 0.2500026226043701, 0.234895259141922, 0.2222147136926651, 0.21221083402633667, 0.20227248966693878, 0.1939530074596405, 0.18701820075511932, 0.1816892921924591, 0.17810559272766113, 0.173167422413826, 0.16988974809646606, 0.1674862653017044, 0.1656470149755478, 0.16456986963748932, 0.16397880017757416, 0.1626492738723755, 0.16216465830802917, 0.16227228939533234, 0.162715345621109, 0.1622282862663269, 0.16258695721626282, 0.16183322668075562, 0.16273459792137146], 'val_loss': [3.028580904006958, 2.7127885818481445, 2.4537620544433594, 2.2262985706329346, 2.0269620418548584, 1.8455415964126587, 1.6800764799118042, 1.5259255170822144, 1.3887642621994019, 1.2589898109436035, 1.1443884372711182, 1.0408941507339478, 0.9461926817893982, 0.8604097962379456, 0.7830859422683716, 0.7109737396240234, 0.6470063924789429, 0.5886526107788086, 0.5367884039878845, 0.4872034788131714, 0.44353485107421875, 0.4060422480106354, 0.370918869972229, 0.33959347009658813, 0.31338512897491455, 0.2888111472129822, 0.2696065902709961, 0.25299957394599915, 0.23625512421131134, 0.22400911152362823, 0.21487976610660553, 0.20445655286312103, 0.19666707515716553, 0.19025857746601105, 0.18634486198425293, 0.18161742389202118, 0.17839935421943665, 0.17429706454277039, 0.17292365431785583, 0.1705402433872223, 0.16889818012714386, 0.16806411743164062, 0.17014646530151367, 0.16878661513328552, 0.1707001030445099, 0.1693916767835617, 0.17166566848754883, 0.1699795126914978, 0.17059673368930817, 0.16922245919704437], 'val_mean_squared_error': [3.028580904006958, 2.7127885818481445, 2.4537620544433594, 2.2262985706329346, 2.0269620418548584, 1.8455415964126587, 1.6800764799118042, 1.5259255170822144, 1.3887642621994019, 1.2589898109436035, 1.1443883180618286, 1.0408941507339478, 0.9461926817893982, 0.8604097962379456, 0.7830859422683716, 0.7109737396240234, 0.6470063924789429, 0.5886526703834534, 0.5367884039878845, 0.4872034788131714, 0.44353485107421875, 0.4060422480106354, 0.370918869972229, 0.33959347009658813, 0.31338515877723694, 0.2888111472129822, 0.2696065902709961, 0.25299960374832153, 0.23625512421131134, 0.22400911152362823, 0.21487976610660553, 0.20445655286312103, 0.19666709005832672, 0.19025857746601105, 0.18634486198425293, 0.18161742389202118, 0.17839935421943665, 0.17429706454277039, 0.17292365431785583, 0.1705402433872223, 0.16889818012714386, 0.16806411743164062, 0.17014646530151367, 0.16878661513328552, 0.1707001030445099, 0.1693916767835617, 0.17166566848754883, 0.1699795126914978, 0.17059673368930817, 0.16922245919704437]}\n",
            "2.5509553402662277\n"
          ]
        },
        {
          "data": {
            "image/png": "[encoded data removed]",
            "text/plain": [
              "<Figure size 432x288 with 1 Axes>"
            ]
          },
          "metadata": {},
          "output_type": "display_data"
        },
        {
          "data": {
            "image/png": "[encoded data removed]",
            "text/plain": [
              "<Figure size 432x288 with 1 Axes>"
            ]
          },
          "metadata": {},
          "output_type": "display_data"
        },
        {
          "data": {
            "application/vnd.google.colaboratory.intrinsic+json": {
              "type": "string"
            },
            "text/plain": [
              "'\\ntest_label = np.array(test_features.pop(label_name)) # isolate the label\\nprint(\"\\n Evaluate the linear regression model against the test set:\")\\nmy_model.evaluate(x = test_features, y = test_label, batch_size=batch_size)\\n'"
            ]
          },
          "execution_count": 75,
          "metadata": {},
          "output_type": "execute_result"
        }
      ],
      "source": [
        "learning_rate = 0.003\n",
        "epochs = 50\n",
        "batch_size = 200\n",
        "label_name = \"SalePrice\"\n",
        "validation_split = 0.2\n",
        "\n",
        "# Establish the model's topography.\n",
        "my_model = create_model(learning_rate, my_feature_layer)\n",
        "\n",
        "# Train the model on the normalized training set.\n",
        "epochs, mse, history = train_model(my_model, train_df_norm1, epochs, batch_size, label_name)\n",
        "print(history)\n",
        "plot_the_loss_curve(epochs, history[\"loss\"], \n",
        "                    history[\"val_loss\"])\n",
        "\n",
        "test_features = {name:np.array(value) for name, value in test_df_norm.items()}\n",
        "loss = [i  * int(79442) for i in history['loss']]\n",
        "plot_loss(epochs, loss)\n",
        "\n",
        "'''\n",
        "test_label = np.array(test_features.pop(label_name)) # isolate the label\n",
        "print(\"\\n Evaluate the linear regression model against the test set:\")\n",
        "my_model.evaluate(x = test_features, y = test_label, batch_size=batch_size)\n",
        "'''"
      ]
    },
    {
      "cell_type": "code",
      "execution_count": null,
      "metadata": {
        "id": "Rj3G6Hh4M-c8"
      },
      "outputs": [],
      "source": [
        "loss = [i  * int(79442) for i in history['loss']]\n",
        "loss"
      ]
    },
    {
      "cell_type": "code",
      "execution_count": null,
      "metadata": {
        "id": "fG26MkMEevEA"
      },
      "outputs": [],
      "source": [
        "train_df_norm = train_df_norm.sort_index(ascending=True)"
      ]
    },
    {
      "cell_type": "code",
      "execution_count": null,
      "metadata": {
        "colab": {
          "base_uri": "https://localhost:8080/"
        },
        "id": "p2hfOowHREdI",
        "outputId": "2db8287f-fde2-4fbf-9f20-ab02fe06810b"
      },
      "outputs": [
        {
          "name": "stdout",
          "output_type": "stream",
          "text": [
            "46/46 [==============================] - 1s 14ms/step\n"
          ]
        },
        {
          "data": {
            "text/plain": [
              "0       0.4\n",
              "1       0.6\n",
              "2       0.4\n",
              "3      -0.1\n",
              "4       1.7\n",
              "       ... \n",
              "1455    0.1\n",
              "1456    0.6\n",
              "1457    0.8\n",
              "1458   -0.7\n",
              "1459   -0.4\n",
              "Name: 0, Length: 1460, dtype: float32"
            ]
          },
          "execution_count": 16,
          "metadata": {},
          "output_type": "execute_result"
        }
      ],
      "source": [
        "#TRAINING PREDICTIONS VS ACTUAL\n",
        "testtrain_features = {name:np.array(value) for name, value in train_df_norm.items()}\n",
        "predictions = my_model.predict(testtrain_features)\n",
        "trainPredictDF = pd.DataFrame(predictions)\n",
        "\n",
        "trainPredictDF['SalePrice'] = train_df['SalePrice']\n",
        "trainPredictDF[0]"
      ]
    },
    {
      "cell_type": "code",
      "execution_count": null,
      "metadata": {
        "id": "0be12eRH8Zir"
      },
      "outputs": [],
      "source": [
        "testtrain_features"
      ]
    },
    {
      "cell_type": "markdown",
      "source": [
        "Normalize prediction outputs to verify"
      ],
      "metadata": {
        "id": "Ls42buL1Z6EH"
      }
    },
    {
      "cell_type": "code",
      "execution_count": null,
      "metadata": {
        "id": "g7WqmqEwigpR"
      },
      "outputs": [],
      "source": [
        "trainPredictDF.rename(columns={0:'predictions'}, inplace=True)\n",
        "trainPredictDF['predictions'] = trainPredictDF['predictions'] * 79442 + 180921\n",
        "trainPredictDF['delta'] = np.absolute(trainPredictDF['predictions'] - trainPredictDF['SalePrice'])"
      ]
    },
    {
      "cell_type": "code",
      "execution_count": null,
      "metadata": {
        "colab": {
          "base_uri": "https://localhost:8080/"
        },
        "id": "Y4Yieb80j6jV",
        "outputId": "831b3527-4b3d-484f-dd51-7b56680b7e9d"
      },
      "outputs": [
        {
          "data": {
            "text/plain": [
              "20853.730326187033"
            ]
          },
          "execution_count": 18,
          "metadata": {},
          "output_type": "execute_result"
        }
      ],
      "source": [
        "trainPredictDF[\"delta\"].mean()"
      ]
    },
    {
      "cell_type": "code",
      "execution_count": null,
      "metadata": {
        "colab": {
          "base_uri": "https://localhost:8080/",
          "height": 424
        },
        "id": "WsJPGgOT_LSn",
        "outputId": "e0673b4c-9a87-435b-d09d-55e4db4313b8"
      },
      "outputs": [
        {
          "data": {
            "text/html": [
              "\n",
              "  <div id=\"df-8d4d95c0-002a-4d45-ad89-bd90b6e0380a\">\n",
              "    <div class=\"colab-df-container\">\n",
              "      <div>\n",
              "<style scoped>\n",
              "    .dataframe tbody tr th:only-of-type {\n",
              "        vertical-align: middle;\n",
              "    }\n",
              "\n",
              "    .dataframe tbody tr th {\n",
              "        vertical-align: top;\n",
              "    }\n",
              "\n",
              "    .dataframe thead th {\n",
              "        text-align: right;\n",
              "    }\n",
              "</style>\n",
              "<table border=\"1\" class=\"dataframe\">\n",
              "  <thead>\n",
              "    <tr style=\"text-align: right;\">\n",
              "      <th></th>\n",
              "      <th>predictions</th>\n",
              "      <th>SalePrice</th>\n",
              "      <th>delta</th>\n",
              "    </tr>\n",
              "  </thead>\n",
              "  <tbody>\n",
              "    <tr>\n",
              "      <th>0</th>\n",
              "      <td>210118.7</td>\n",
              "      <td>208500</td>\n",
              "      <td>1618.7</td>\n",
              "    </tr>\n",
              "    <tr>\n",
              "      <th>1</th>\n",
              "      <td>227026.2</td>\n",
              "      <td>181500</td>\n",
              "      <td>45526.2</td>\n",
              "    </tr>\n",
              "    <tr>\n",
              "      <th>2</th>\n",
              "      <td>211195.8</td>\n",
              "      <td>223500</td>\n",
              "      <td>12304.2</td>\n",
              "    </tr>\n",
              "    <tr>\n",
              "      <th>3</th>\n",
              "      <td>171101.0</td>\n",
              "      <td>140000</td>\n",
              "      <td>31101.0</td>\n",
              "    </tr>\n",
              "    <tr>\n",
              "      <th>4</th>\n",
              "      <td>314552.2</td>\n",
              "      <td>250000</td>\n",
              "      <td>64552.2</td>\n",
              "    </tr>\n",
              "    <tr>\n",
              "      <th>...</th>\n",
              "      <td>...</td>\n",
              "      <td>...</td>\n",
              "      <td>...</td>\n",
              "    </tr>\n",
              "    <tr>\n",
              "      <th>1455</th>\n",
              "      <td>184897.2</td>\n",
              "      <td>175000</td>\n",
              "      <td>9897.2</td>\n",
              "    </tr>\n",
              "    <tr>\n",
              "      <th>1456</th>\n",
              "      <td>230647.6</td>\n",
              "      <td>210000</td>\n",
              "      <td>20647.6</td>\n",
              "    </tr>\n",
              "    <tr>\n",
              "      <th>1457</th>\n",
              "      <td>244831.2</td>\n",
              "      <td>266500</td>\n",
              "      <td>21668.8</td>\n",
              "    </tr>\n",
              "    <tr>\n",
              "      <th>1458</th>\n",
              "      <td>126832.4</td>\n",
              "      <td>142125</td>\n",
              "      <td>15292.6</td>\n",
              "    </tr>\n",
              "    <tr>\n",
              "      <th>1459</th>\n",
              "      <td>148545.3</td>\n",
              "      <td>147500</td>\n",
              "      <td>1045.3</td>\n",
              "    </tr>\n",
              "  </tbody>\n",
              "</table>\n",
              "<p>1460 rows × 3 columns</p>\n",
              "</div>\n",
              "      <button class=\"colab-df-convert\" onclick=\"convertToInteractive('df-8d4d95c0-002a-4d45-ad89-bd90b6e0380a')\"\n",
              "              title=\"Convert this dataframe to an interactive table.\"\n",
              "              style=\"display:none;\">\n",
              "        \n",
              "  <svg xmlns=\"http://www.w3.org/2000/svg\" height=\"24px\"viewBox=\"0 0 24 24\"\n",
              "       width=\"24px\">\n",
              "    <path d=\"M0 0h24v24H0V0z\" fill=\"none\"/>\n",
              "    <path d=\"M18.56 5.44l.94 2.06.94-2.06 2.06-.94-2.06-.94-.94-2.06-.94 2.06-2.06.94zm-11 1L8.5 8.5l.94-2.06 2.06-.94-2.06-.94L8.5 2.5l-.94 2.06-2.06.94zm10 10l.94 2.06.94-2.06 2.06-.94-2.06-.94-.94-2.06-.94 2.06-2.06.94z\"/><path d=\"M17.41 7.96l-1.37-1.37c-.4-.4-.92-.59-1.43-.59-.52 0-1.04.2-1.43.59L10.3 9.45l-7.72 7.72c-.78.78-.78 2.05 0 2.83L4 21.41c.39.39.9.59 1.41.59.51 0 1.02-.2 1.41-.59l7.78-7.78 2.81-2.81c.8-.78.8-2.07 0-2.86zM5.41 20L4 18.59l7.72-7.72 1.47 1.35L5.41 20z\"/>\n",
              "  </svg>\n",
              "      </button>\n",
              "      \n",
              "  <style>\n",
              "    .colab-df-container {\n",
              "      display:flex;\n",
              "      flex-wrap:wrap;\n",
              "      gap: 12px;\n",
              "    }\n",
              "\n",
              "    .colab-df-convert {\n",
              "      background-color: #E8F0FE;\n",
              "      border: none;\n",
              "      border-radius: 50%;\n",
              "      cursor: pointer;\n",
              "      display: none;\n",
              "      fill: #1967D2;\n",
              "      height: 32px;\n",
              "      padding: 0 0 0 0;\n",
              "      width: 32px;\n",
              "    }\n",
              "\n",
              "    .colab-df-convert:hover {\n",
              "      background-color: #E2EBFA;\n",
              "      box-shadow: 0px 1px 2px rgba(60, 64, 67, 0.3), 0px 1px 3px 1px rgba(60, 64, 67, 0.15);\n",
              "      fill: #174EA6;\n",
              "    }\n",
              "\n",
              "    [theme=dark] .colab-df-convert {\n",
              "      background-color: #3B4455;\n",
              "      fill: #D2E3FC;\n",
              "    }\n",
              "\n",
              "    [theme=dark] .colab-df-convert:hover {\n",
              "      background-color: #434B5C;\n",
              "      box-shadow: 0px 1px 3px 1px rgba(0, 0, 0, 0.15);\n",
              "      filter: drop-shadow(0px 1px 2px rgba(0, 0, 0, 0.3));\n",
              "      fill: #FFFFFF;\n",
              "    }\n",
              "  </style>\n",
              "\n",
              "      <script>\n",
              "        const buttonEl =\n",
              "          document.querySelector('#df-8d4d95c0-002a-4d45-ad89-bd90b6e0380a button.colab-df-convert');\n",
              "        buttonEl.style.display =\n",
              "          google.colab.kernel.accessAllowed ? 'block' : 'none';\n",
              "\n",
              "        async function convertToInteractive(key) {\n",
              "          const element = document.querySelector('#df-8d4d95c0-002a-4d45-ad89-bd90b6e0380a');\n",
              "          const dataTable =\n",
              "            await google.colab.kernel.invokeFunction('convertToInteractive',\n",
              "                                                     [key], {});\n",
              "          if (!dataTable) return;\n",
              "\n",
              "          const docLinkHtml = 'Like what you see? Visit the ' +\n",
              "            '<a target=\"_blank\" href=https://colab.research.google.com/notebooks/data_table.ipynb>data table notebook</a>'\n",
              "            + ' to learn more about interactive tables.';\n",
              "          element.innerHTML = '';\n",
              "          dataTable['output_type'] = 'display_data';\n",
              "          await google.colab.output.renderOutput(dataTable, element);\n",
              "          const docLink = document.createElement('div');\n",
              "          docLink.innerHTML = docLinkHtml;\n",
              "          element.appendChild(docLink);\n",
              "        }\n",
              "      </script>\n",
              "    </div>\n",
              "  </div>\n",
              "  "
            ],
            "text/plain": [
              "      predictions  SalePrice   delta\n",
              "0        210118.7     208500  1618.7\n",
              "1        227026.2     181500 45526.2\n",
              "2        211195.8     223500 12304.2\n",
              "3        171101.0     140000 31101.0\n",
              "4        314552.2     250000 64552.2\n",
              "...           ...        ...     ...\n",
              "1455     184897.2     175000  9897.2\n",
              "1456     230647.6     210000 20647.6\n",
              "1457     244831.2     266500 21668.8\n",
              "1458     126832.4     142125 15292.6\n",
              "1459     148545.3     147500  1045.3\n",
              "\n",
              "[1460 rows x 3 columns]"
            ]
          },
          "execution_count": 19,
          "metadata": {},
          "output_type": "execute_result"
        }
      ],
      "source": [
        "#trainPredictDF['predictions'] = trainPredictDF[0] * 79442 - 180921\n",
        "#trainPredictDF['SalePrice'] = trainPredictDF['SalePrice']  * 79442 - 180921\n",
        "trainPredictDF"
      ]
    },
    {
      "cell_type": "code",
      "execution_count": null,
      "metadata": {
        "colab": {
          "base_uri": "https://localhost:8080/"
        },
        "id": "ZpQfQ-KDf0BH",
        "outputId": "ef090bdb-e272-4427-9719-ba02f296d6d2"
      },
      "outputs": [
        {
          "data": {
            "text/plain": [
              "-155078.5174"
            ]
          },
          "execution_count": 1,
          "metadata": {},
          "output_type": "execute_result"
        }
      ],
      "source": [
        "0.3253  * 79442 - 180921"
      ]
    },
    {
      "cell_type": "code",
      "execution_count": null,
      "metadata": {
        "id": "gIQMuUQw9ykr"
      },
      "outputs": [],
      "source": [
        "train_df_norm"
      ]
    },
    {
      "cell_type": "code",
      "execution_count": null,
      "metadata": {
        "id": "yuC2AhwRPkgg"
      },
      "outputs": [],
      "source": [
        "# re scale to real numbers   test_df_norm * test_df_std - test_df_mean = test_df\n",
        "#test_df_mean = test_df.mean()\n",
        "#test_df_std = test_df.std()\n",
        "#test_df_norm = (test_df - test_df_mean)/test_df_std\n",
        "#train_df['realhistory'] = history[\"loss\"] * 79442 - 180921\n",
        "predictions = my_model.predict(test_features)\n",
        "predictDF = pd.DataFrame(predictions)\n",
        "predictDF = predictDF * 79442 - 180921\n",
        "predictDF"
      ]
    },
    {
      "cell_type": "code",
      "execution_count": null,
      "metadata": {
        "id": "8xlUG0tEAtDi"
      },
      "outputs": [],
      "source": [
        "#NEURAL NET PREDICTOR"
      ]
    },
    {
      "cell_type": "code",
      "execution_count": null,
      "metadata": {
        "id": "qXwn24EXAzp8"
      },
      "outputs": [],
      "source": [
        "def create_model(my_learning_rate, my_feature_layer):\n",
        "  \"\"\"Create and compile a simple linear regression model.\"\"\"\n",
        "  # Most simple tf.keras models are sequential.\n",
        "  model = tf.keras.models.Sequential()\n",
        "\n",
        "  # Add the layer containing the feature columns to the model.\n",
        "  model.add(my_feature_layer)\n",
        "\n",
        "  # Describe the topography of the model by calling the tf.keras.layers.Dense\n",
        "  # method once for each layer. We've specified the following arguments:\n",
        "  #   * units specifies the number of nodes in this layer.\n",
        "  #   * activation specifies the activation function (Rectified Linear Unit).\n",
        "  #   * name is just a string that can be useful when debugging.\n",
        "\n",
        "  # Define the first hidden layer with 20 nodes.   \n",
        "  model.add(tf.keras.layers.Dense(units=3, \n",
        "                                  activation='relu',\n",
        "                                  kernel_regularizer=tf.keras.regularizers.l2(l=0.04), \n",
        "                                  name='Hidden1'))\n",
        "  \n",
        "  # Define the second hidden layer with 12 nodes. \n",
        "  model.add(tf.keras.layers.Dense(units=3, \n",
        "                                  activation='relu', \n",
        "                                  kernel_regularizer=tf.keras.regularizers.l2(l=0.04),\n",
        "                                  name='Hidden2'))\n",
        "  \n",
        "  # Define the output layer.\n",
        "  model.add(tf.keras.layers.Dense(units=1,  \n",
        "                                  name='Output'))                              \n",
        "  \n",
        "  model.compile(optimizer=tf.keras.optimizers.Adam(lr=my_learning_rate),\n",
        "                loss=\"mean_squared_error\",\n",
        "                metrics=[tf.keras.metrics.MeanSquaredError()])\n",
        "\n",
        "  return model\n",
        "\n",
        "def train_model(model, dataset, epochs, label_name,  my_validation_split = 0.2,\n",
        "                batch_size=None):\n",
        "  \"\"\"Train the model by feeding it data.\"\"\"\n",
        "\n",
        "  # Split the dataset into features and label.\n",
        "  features = {name:np.array(value) for name, value in dataset.items()}\n",
        "  label = np.array(features.pop(label_name))\n",
        "  history = model.fit(x=features, y=label, batch_size=batch_size,\n",
        "                      epochs=epochs, validation_split = my_validation_split, shuffle=True) \n",
        "\n",
        "  # The list of epochs is stored separately from the rest of history.\n",
        "  epochs = history.epoch\n",
        "  \n",
        "  # To track the progression of training, gather a snapshot\n",
        "  # of the model's mean squared error at each epoch. \n",
        "  hist = pd.DataFrame(history.history)\n",
        "  mse = hist[\"mean_squared_error\"]\n",
        "\n",
        "  return epochs, mse, history.history  "
      ]
    },
    {
      "cell_type": "code",
      "execution_count": null,
      "metadata": {
        "colab": {
          "base_uri": "https://localhost:8080/",
          "height": 1000
        },
        "id": "hBHh8hyaBm70",
        "outputId": "2ab6055a-4428-46cb-b85d-62ce79c75058"
      },
      "outputs": [
        {
          "name": "stdout",
          "output_type": "stream",
          "text": [
            "Epoch 1/75\n"
          ]
        },
        {
          "name": "stderr",
          "output_type": "stream",
          "text": [
            "/usr/local/lib/python3.7/dist-packages/keras/optimizers/optimizer_v2/adam.py:110: UserWarning: The `lr` argument is deprecated, use `learning_rate` instead.\n",
            "  super(Adam, self).__init__(name, **kwargs)\n",
            "WARNING:tensorflow:Layers in a Sequential model should only have a single input tensor. Received: inputs={'Condition1': <tf.Tensor 'IteratorGetNext:4' shape=(None,) dtype=float32>, 'FullBath': <tf.Tensor 'IteratorGetNext:7' shape=(None,) dtype=float32>, 'HalfBath': <tf.Tensor 'IteratorGetNext:9' shape=(None,) dtype=float32>, 'LotArea': <tf.Tensor 'IteratorGetNext:10' shape=(None,) dtype=float32>, 'OverallCond': <tf.Tensor 'IteratorGetNext:12' shape=(None,) dtype=float32>, 'Neighborhood': <tf.Tensor 'IteratorGetNext:11' shape=(None,) dtype=float32>, 'ExterCond': <tf.Tensor 'IteratorGetNext:5' shape=(None,) dtype=float32>, 'ExterQual': <tf.Tensor 'IteratorGetNext:6' shape=(None,) dtype=float32>, '1stFlrSF': <tf.Tensor 'IteratorGetNext:0' shape=(None,) dtype=float32>, '2ndFlrSF': <tf.Tensor 'IteratorGetNext:1' shape=(None,) dtype=float32>, 'YrSold': <tf.Tensor 'IteratorGetNext:14' shape=(None,) dtype=float32>, 'YearBuilt': <tf.Tensor 'IteratorGetNext:13' shape=(None,) dtype=float32>, 'GarageCars': <tf.Tensor 'IteratorGetNext:8' shape=(None,) dtype=float32>, 'BsmtFinSF1': <tf.Tensor 'IteratorGetNext:2' shape=(None,) dtype=float32>, 'BsmtFinSF2': <tf.Tensor 'IteratorGetNext:3' shape=(None,) dtype=float32>}. Consider rewriting this model with the Functional API.\n",
            "WARNING:tensorflow:Layers in a Sequential model should only have a single input tensor. Received: inputs={'Condition1': <tf.Tensor 'IteratorGetNext:4' shape=(None,) dtype=float32>, 'FullBath': <tf.Tensor 'IteratorGetNext:7' shape=(None,) dtype=float32>, 'HalfBath': <tf.Tensor 'IteratorGetNext:9' shape=(None,) dtype=float32>, 'LotArea': <tf.Tensor 'IteratorGetNext:10' shape=(None,) dtype=float32>, 'OverallCond': <tf.Tensor 'IteratorGetNext:12' shape=(None,) dtype=float32>, 'Neighborhood': <tf.Tensor 'IteratorGetNext:11' shape=(None,) dtype=float32>, 'ExterCond': <tf.Tensor 'IteratorGetNext:5' shape=(None,) dtype=float32>, 'ExterQual': <tf.Tensor 'IteratorGetNext:6' shape=(None,) dtype=float32>, '1stFlrSF': <tf.Tensor 'IteratorGetNext:0' shape=(None,) dtype=float32>, '2ndFlrSF': <tf.Tensor 'IteratorGetNext:1' shape=(None,) dtype=float32>, 'YrSold': <tf.Tensor 'IteratorGetNext:14' shape=(None,) dtype=float32>, 'YearBuilt': <tf.Tensor 'IteratorGetNext:13' shape=(None,) dtype=float32>, 'GarageCars': <tf.Tensor 'IteratorGetNext:8' shape=(None,) dtype=float32>, 'BsmtFinSF1': <tf.Tensor 'IteratorGetNext:2' shape=(None,) dtype=float32>, 'BsmtFinSF2': <tf.Tensor 'IteratorGetNext:3' shape=(None,) dtype=float32>}. Consider rewriting this model with the Functional API.\n"
          ]
        },
        {
          "name": "stdout",
          "output_type": "stream",
          "text": [
            "\r1/4 [======>.......................] - ETA: 1s - loss: 1.5454 - mean_squared_error: 1.2155"
          ]
        },
        {
          "name": "stderr",
          "output_type": "stream",
          "text": [
            "WARNING:tensorflow:Layers in a Sequential model should only have a single input tensor. Received: inputs={'Condition1': <tf.Tensor 'IteratorGetNext:4' shape=(None,) dtype=float32>, 'FullBath': <tf.Tensor 'IteratorGetNext:7' shape=(None,) dtype=float32>, 'HalfBath': <tf.Tensor 'IteratorGetNext:9' shape=(None,) dtype=float32>, 'LotArea': <tf.Tensor 'IteratorGetNext:10' shape=(None,) dtype=float32>, 'OverallCond': <tf.Tensor 'IteratorGetNext:12' shape=(None,) dtype=float32>, 'Neighborhood': <tf.Tensor 'IteratorGetNext:11' shape=(None,) dtype=float32>, 'ExterCond': <tf.Tensor 'IteratorGetNext:5' shape=(None,) dtype=float32>, 'ExterQual': <tf.Tensor 'IteratorGetNext:6' shape=(None,) dtype=float32>, '1stFlrSF': <tf.Tensor 'IteratorGetNext:0' shape=(None,) dtype=float32>, '2ndFlrSF': <tf.Tensor 'IteratorGetNext:1' shape=(None,) dtype=float32>, 'YrSold': <tf.Tensor 'IteratorGetNext:14' shape=(None,) dtype=float32>, 'YearBuilt': <tf.Tensor 'IteratorGetNext:13' shape=(None,) dtype=float32>, 'GarageCars': <tf.Tensor 'IteratorGetNext:8' shape=(None,) dtype=float32>, 'BsmtFinSF1': <tf.Tensor 'IteratorGetNext:2' shape=(None,) dtype=float32>, 'BsmtFinSF2': <tf.Tensor 'IteratorGetNext:3' shape=(None,) dtype=float32>}. Consider rewriting this model with the Functional API.\n"
          ]
        },
        {
          "name": "stdout",
          "output_type": "stream",
          "text": [
            "\b\b\b\b\b\b\b\b\b\b\b\b\b\b\b\b\b\b\b\b\b\b\b\b\b\b\b\b\b\b\b\b\b\b\b\b\b\b\b\b\b\b\b\b\b\b\b\b\b\b\b\b\b\b\b\b\b\b\b\b\b\b\b\b\b\b\b\b\b\b\b\b\b\b\b\b\b\b\b\b\b\b\b\b\b\b\b\b\b\b\r4/4 [==============================] - 1s 79ms/step - loss: 1.3679 - mean_squared_error: 1.0577 - val_loss: 0.9410 - val_mean_squared_error: 0.6598\n",
            "Epoch 2/75\n",
            "4/4 [==============================] - 0s 9ms/step - loss: 0.9253 - mean_squared_error: 0.6579 - val_loss: 0.7260 - val_mean_squared_error: 0.4806\n",
            "Epoch 3/75\n",
            "4/4 [==============================] - 0s 9ms/step - loss: 0.7055 - mean_squared_error: 0.4699 - val_loss: 0.5917 - val_mean_squared_error: 0.3703\n",
            "Epoch 4/75\n",
            "4/4 [==============================] - 0s 9ms/step - loss: 0.5714 - mean_squared_error: 0.3552 - val_loss: 0.5054 - val_mean_squared_error: 0.2967\n",
            "Epoch 5/75\n",
            "4/4 [==============================] - 0s 10ms/step - loss: 0.4888 - mean_squared_error: 0.2832 - val_loss: 0.4761 - val_mean_squared_error: 0.2765\n",
            "Epoch 6/75\n",
            "4/4 [==============================] - 0s 10ms/step - loss: 0.4366 - mean_squared_error: 0.2413 - val_loss: 0.4407 - val_mean_squared_error: 0.2539\n",
            "Epoch 7/75\n",
            "4/4 [==============================] - 0s 10ms/step - loss: 0.3906 - mean_squared_error: 0.2096 - val_loss: 0.3914 - val_mean_squared_error: 0.2205\n",
            "Epoch 8/75\n",
            "4/4 [==============================] - 0s 11ms/step - loss: 0.3552 - mean_squared_error: 0.1891 - val_loss: 0.3602 - val_mean_squared_error: 0.2025\n",
            "Epoch 9/75\n",
            "4/4 [==============================] - 0s 9ms/step - loss: 0.3285 - mean_squared_error: 0.1750 - val_loss: 0.3353 - val_mean_squared_error: 0.1884\n",
            "Epoch 10/75\n",
            "4/4 [==============================] - 0s 9ms/step - loss: 0.3041 - mean_squared_error: 0.1605 - val_loss: 0.3186 - val_mean_squared_error: 0.1801\n",
            "Epoch 11/75\n",
            "4/4 [==============================] - 0s 9ms/step - loss: 0.2851 - mean_squared_error: 0.1493 - val_loss: 0.3026 - val_mean_squared_error: 0.1724\n",
            "Epoch 12/75\n",
            "4/4 [==============================] - 0s 9ms/step - loss: 0.2701 - mean_squared_error: 0.1431 - val_loss: 0.2876 - val_mean_squared_error: 0.1655\n",
            "Epoch 13/75\n",
            "4/4 [==============================] - 0s 9ms/step - loss: 0.2569 - mean_squared_error: 0.1376 - val_loss: 0.2787 - val_mean_squared_error: 0.1641\n",
            "Epoch 14/75\n",
            "4/4 [==============================] - 0s 9ms/step - loss: 0.2475 - mean_squared_error: 0.1357 - val_loss: 0.2701 - val_mean_squared_error: 0.1625\n",
            "Epoch 15/75\n",
            "4/4 [==============================] - 0s 11ms/step - loss: 0.2373 - mean_squared_error: 0.1320 - val_loss: 0.2596 - val_mean_squared_error: 0.1586\n",
            "Epoch 16/75\n",
            "4/4 [==============================] - 0s 10ms/step - loss: 0.2290 - mean_squared_error: 0.1302 - val_loss: 0.2526 - val_mean_squared_error: 0.1573\n",
            "Epoch 17/75\n",
            "4/4 [==============================] - 0s 10ms/step - loss: 0.2229 - mean_squared_error: 0.1289 - val_loss: 0.2492 - val_mean_squared_error: 0.1577\n",
            "Epoch 18/75\n",
            "4/4 [==============================] - 0s 10ms/step - loss: 0.2180 - mean_squared_error: 0.1283 - val_loss: 0.2398 - val_mean_squared_error: 0.1525\n",
            "Epoch 19/75\n",
            "4/4 [==============================] - 0s 9ms/step - loss: 0.2147 - mean_squared_error: 0.1280 - val_loss: 0.2383 - val_mean_squared_error: 0.1530\n",
            "Epoch 20/75\n",
            "4/4 [==============================] - 0s 9ms/step - loss: 0.2106 - mean_squared_error: 0.1269 - val_loss: 0.2319 - val_mean_squared_error: 0.1500\n",
            "Epoch 21/75\n",
            "4/4 [==============================] - 0s 10ms/step - loss: 0.2072 - mean_squared_error: 0.1256 - val_loss: 0.2368 - val_mean_squared_error: 0.1561\n",
            "Epoch 22/75\n",
            "4/4 [==============================] - 0s 9ms/step - loss: 0.2032 - mean_squared_error: 0.1239 - val_loss: 0.2240 - val_mean_squared_error: 0.1471\n",
            "Epoch 23/75\n",
            "4/4 [==============================] - 0s 8ms/step - loss: 0.2015 - mean_squared_error: 0.1255 - val_loss: 0.2268 - val_mean_squared_error: 0.1511\n",
            "Epoch 24/75\n",
            "4/4 [==============================] - 0s 9ms/step - loss: 0.2001 - mean_squared_error: 0.1248 - val_loss: 0.2225 - val_mean_squared_error: 0.1488\n",
            "Epoch 25/75\n",
            "4/4 [==============================] - 0s 12ms/step - loss: 0.1974 - mean_squared_error: 0.1247 - val_loss: 0.2200 - val_mean_squared_error: 0.1484\n",
            "Epoch 26/75\n",
            "4/4 [==============================] - 0s 10ms/step - loss: 0.1943 - mean_squared_error: 0.1229 - val_loss: 0.2257 - val_mean_squared_error: 0.1548\n",
            "Epoch 27/75\n",
            "4/4 [==============================] - 0s 9ms/step - loss: 0.1943 - mean_squared_error: 0.1241 - val_loss: 0.2175 - val_mean_squared_error: 0.1491\n",
            "Epoch 28/75\n",
            "4/4 [==============================] - 0s 9ms/step - loss: 0.1922 - mean_squared_error: 0.1241 - val_loss: 0.2200 - val_mean_squared_error: 0.1525\n",
            "Epoch 29/75\n",
            "4/4 [==============================] - 0s 9ms/step - loss: 0.1902 - mean_squared_error: 0.1233 - val_loss: 0.2169 - val_mean_squared_error: 0.1509\n",
            "Epoch 30/75\n",
            "4/4 [==============================] - 0s 9ms/step - loss: 0.1896 - mean_squared_error: 0.1242 - val_loss: 0.2166 - val_mean_squared_error: 0.1515\n",
            "Epoch 31/75\n",
            "4/4 [==============================] - 0s 11ms/step - loss: 0.1874 - mean_squared_error: 0.1227 - val_loss: 0.2141 - val_mean_squared_error: 0.1506\n",
            "Epoch 32/75\n",
            "4/4 [==============================] - 0s 12ms/step - loss: 0.1865 - mean_squared_error: 0.1238 - val_loss: 0.2131 - val_mean_squared_error: 0.1509\n",
            "Epoch 33/75\n",
            "4/4 [==============================] - 0s 13ms/step - loss: 0.1867 - mean_squared_error: 0.1243 - val_loss: 0.2141 - val_mean_squared_error: 0.1526\n",
            "Epoch 34/75\n",
            "4/4 [==============================] - 0s 13ms/step - loss: 0.1850 - mean_squared_error: 0.1243 - val_loss: 0.2116 - val_mean_squared_error: 0.1514\n",
            "Epoch 35/75\n",
            "4/4 [==============================] - 0s 11ms/step - loss: 0.1880 - mean_squared_error: 0.1274 - val_loss: 0.2169 - val_mean_squared_error: 0.1567\n",
            "Epoch 36/75\n",
            "4/4 [==============================] - 0s 11ms/step - loss: 0.1813 - mean_squared_error: 0.1220 - val_loss: 0.2081 - val_mean_squared_error: 0.1503\n",
            "Epoch 37/75\n",
            "4/4 [==============================] - 0s 11ms/step - loss: 0.1825 - mean_squared_error: 0.1245 - val_loss: 0.2194 - val_mean_squared_error: 0.1607\n",
            "Epoch 38/75\n",
            "4/4 [==============================] - 0s 11ms/step - loss: 0.1814 - mean_squared_error: 0.1233 - val_loss: 0.2063 - val_mean_squared_error: 0.1495\n",
            "Epoch 39/75\n",
            "4/4 [==============================] - 0s 10ms/step - loss: 0.1819 - mean_squared_error: 0.1256 - val_loss: 0.2080 - val_mean_squared_error: 0.1516\n",
            "Epoch 40/75\n",
            "4/4 [==============================] - 0s 17ms/step - loss: 0.1797 - mean_squared_error: 0.1231 - val_loss: 0.2110 - val_mean_squared_error: 0.1549\n",
            "Epoch 41/75\n",
            "4/4 [==============================] - 0s 10ms/step - loss: 0.1776 - mean_squared_error: 0.1220 - val_loss: 0.2054 - val_mean_squared_error: 0.1508\n",
            "Epoch 42/75\n",
            "4/4 [==============================] - 0s 10ms/step - loss: 0.1801 - mean_squared_error: 0.1250 - val_loss: 0.2099 - val_mean_squared_error: 0.1551\n",
            "Epoch 43/75\n",
            "4/4 [==============================] - 0s 10ms/step - loss: 0.1762 - mean_squared_error: 0.1218 - val_loss: 0.2032 - val_mean_squared_error: 0.1498\n",
            "Epoch 44/75\n",
            "4/4 [==============================] - 0s 10ms/step - loss: 0.1772 - mean_squared_error: 0.1236 - val_loss: 0.2085 - val_mean_squared_error: 0.1551\n",
            "Epoch 45/75\n",
            "4/4 [==============================] - 0s 10ms/step - loss: 0.1749 - mean_squared_error: 0.1217 - val_loss: 0.2032 - val_mean_squared_error: 0.1509\n",
            "Epoch 46/75\n",
            "4/4 [==============================] - 0s 9ms/step - loss: 0.1765 - mean_squared_error: 0.1243 - val_loss: 0.2169 - val_mean_squared_error: 0.1639\n",
            "Epoch 47/75\n",
            "4/4 [==============================] - 0s 9ms/step - loss: 0.1763 - mean_squared_error: 0.1239 - val_loss: 0.2015 - val_mean_squared_error: 0.1504\n",
            "Epoch 48/75\n",
            "4/4 [==============================] - 0s 9ms/step - loss: 0.1760 - mean_squared_error: 0.1251 - val_loss: 0.2065 - val_mean_squared_error: 0.1549\n",
            "Epoch 49/75\n",
            "4/4 [==============================] - 0s 9ms/step - loss: 0.1753 - mean_squared_error: 0.1237 - val_loss: 0.2042 - val_mean_squared_error: 0.1529\n",
            "Epoch 50/75\n",
            "4/4 [==============================] - 0s 10ms/step - loss: 0.1734 - mean_squared_error: 0.1224 - val_loss: 0.2015 - val_mean_squared_error: 0.1511\n",
            "Epoch 51/75\n",
            "4/4 [==============================] - 0s 9ms/step - loss: 0.1725 - mean_squared_error: 0.1223 - val_loss: 0.2053 - val_mean_squared_error: 0.1552\n",
            "Epoch 52/75\n",
            "4/4 [==============================] - 0s 12ms/step - loss: 0.1749 - mean_squared_error: 0.1254 - val_loss: 0.2024 - val_mean_squared_error: 0.1528\n",
            "Epoch 53/75\n",
            "4/4 [==============================] - 0s 11ms/step - loss: 0.1710 - mean_squared_error: 0.1210 - val_loss: 0.2068 - val_mean_squared_error: 0.1567\n",
            "Epoch 54/75\n",
            "4/4 [==============================] - 0s 12ms/step - loss: 0.1714 - mean_squared_error: 0.1222 - val_loss: 0.1967 - val_mean_squared_error: 0.1483\n",
            "Epoch 55/75\n",
            "4/4 [==============================] - 0s 11ms/step - loss: 0.1700 - mean_squared_error: 0.1213 - val_loss: 0.2093 - val_mean_squared_error: 0.1598\n",
            "Epoch 56/75\n",
            "4/4 [==============================] - 0s 12ms/step - loss: 0.1725 - mean_squared_error: 0.1229 - val_loss: 0.2027 - val_mean_squared_error: 0.1546\n",
            "Epoch 57/75\n",
            "4/4 [==============================] - 0s 16ms/step - loss: 0.1739 - mean_squared_error: 0.1256 - val_loss: 0.2038 - val_mean_squared_error: 0.1557\n",
            "Epoch 58/75\n",
            "4/4 [==============================] - 0s 10ms/step - loss: 0.1705 - mean_squared_error: 0.1230 - val_loss: 0.1985 - val_mean_squared_error: 0.1514\n",
            "Epoch 59/75\n",
            "4/4 [==============================] - 0s 10ms/step - loss: 0.1688 - mean_squared_error: 0.1215 - val_loss: 0.2061 - val_mean_squared_error: 0.1582\n",
            "Epoch 60/75\n",
            "4/4 [==============================] - 0s 9ms/step - loss: 0.1693 - mean_squared_error: 0.1217 - val_loss: 0.2006 - val_mean_squared_error: 0.1534\n",
            "Epoch 61/75\n",
            "4/4 [==============================] - 0s 10ms/step - loss: 0.1676 - mean_squared_error: 0.1209 - val_loss: 0.2012 - val_mean_squared_error: 0.1543\n",
            "Epoch 62/75\n",
            "4/4 [==============================] - 0s 9ms/step - loss: 0.1675 - mean_squared_error: 0.1206 - val_loss: 0.1986 - val_mean_squared_error: 0.1523\n",
            "Epoch 63/75\n",
            "4/4 [==============================] - 0s 12ms/step - loss: 0.1685 - mean_squared_error: 0.1219 - val_loss: 0.1999 - val_mean_squared_error: 0.1536\n",
            "Epoch 64/75\n",
            "4/4 [==============================] - 0s 9ms/step - loss: 0.1674 - mean_squared_error: 0.1215 - val_loss: 0.1981 - val_mean_squared_error: 0.1528\n",
            "Epoch 65/75\n",
            "4/4 [==============================] - 0s 9ms/step - loss: 0.1661 - mean_squared_error: 0.1204 - val_loss: 0.1994 - val_mean_squared_error: 0.1537\n",
            "Epoch 66/75\n",
            "4/4 [==============================] - 0s 10ms/step - loss: 0.1719 - mean_squared_error: 0.1268 - val_loss: 0.2096 - val_mean_squared_error: 0.1638\n",
            "Epoch 67/75\n",
            "4/4 [==============================] - 0s 10ms/step - loss: 0.1705 - mean_squared_error: 0.1243 - val_loss: 0.1977 - val_mean_squared_error: 0.1524\n",
            "Epoch 68/75\n",
            "4/4 [==============================] - 0s 12ms/step - loss: 0.1684 - mean_squared_error: 0.1235 - val_loss: 0.1986 - val_mean_squared_error: 0.1536\n",
            "Epoch 69/75\n",
            "4/4 [==============================] - 0s 12ms/step - loss: 0.1675 - mean_squared_error: 0.1226 - val_loss: 0.1973 - val_mean_squared_error: 0.1525\n",
            "Epoch 70/75\n",
            "4/4 [==============================] - 0s 12ms/step - loss: 0.1647 - mean_squared_error: 0.1197 - val_loss: 0.2004 - val_mean_squared_error: 0.1556\n",
            "Epoch 71/75\n",
            "4/4 [==============================] - 0s 11ms/step - loss: 0.1678 - mean_squared_error: 0.1231 - val_loss: 0.1962 - val_mean_squared_error: 0.1525\n",
            "Epoch 72/75\n",
            "4/4 [==============================] - 0s 15ms/step - loss: 0.1685 - mean_squared_error: 0.1253 - val_loss: 0.2006 - val_mean_squared_error: 0.1563\n",
            "Epoch 73/75\n",
            "4/4 [==============================] - 0s 9ms/step - loss: 0.1668 - mean_squared_error: 0.1223 - val_loss: 0.1975 - val_mean_squared_error: 0.1537\n",
            "Epoch 74/75\n",
            "4/4 [==============================] - 0s 9ms/step - loss: 0.1636 - mean_squared_error: 0.1198 - val_loss: 0.1947 - val_mean_squared_error: 0.1517\n",
            "Epoch 75/75\n",
            "4/4 [==============================] - 0s 9ms/step - loss: 0.1650 - mean_squared_error: 0.1216 - val_loss: 0.1953 - val_mean_squared_error: 0.1522\n",
            "0.7616687417030334\n"
          ]
        },
        {
          "data": {
            "image/png": "[encoded data removed]",
            "text/plain": [
              "<Figure size 432x288 with 1 Axes>"
            ]
          },
          "metadata": {},
          "output_type": "display_data"
        },
        {
          "data": {
            "image/png": "[encoded data removed]",
            "text/plain": [
              "<Figure size 432x288 with 1 Axes>"
            ]
          },
          "metadata": {},
          "output_type": "display_data"
        },
        {
          "name": "stdout",
          "output_type": "stream",
          "text": [
            "\n",
            " Evaluate the new model against the test set:\n"
          ]
        }
      ],
      "source": [
        "# The following variables are the hyperparameters.\n",
        "learning_rate = 0.018\n",
        "epochs = 75\n",
        "batch_size = 300\n",
        "my_validation_split = 0.2\n",
        "# Specify the label\n",
        "label_name = \"SalePrice\"\n",
        "\n",
        "# Establish the model's topography.\n",
        "my_model = create_model(learning_rate, my_feature_layer)\n",
        "\n",
        "# Train the model on the normalized training set. We're passing the entire\n",
        "# normalized training set, but the model will only use the features\n",
        "# defined by the feature_layer.\n",
        "epochs, mse, history = train_model(my_model, train_df_norm1, epochs, \n",
        "                          label_name, my_validation_split, batch_size)\n",
        "plot_the_loss_curve(epochs, history[\"loss\"], \n",
        "                    history[\"val_loss\"])\n",
        "loss = [i  * int(79442) for i in history['val_loss']]\n",
        "plot_loss(epochs, loss)\n",
        "# After building a model against the training set, test that model\n",
        "# against the test set.\n",
        "test_features = {name:np.array(value) for name, value in test_df_norm.items()}\n",
        "test_label = 'SalePrice' # isolate the label\n",
        "print(\"\\n Evaluate the new model against the test set:\")\n",
        "#my_model.evaluate(x = test_features, y = test_label, batch_size=batch_size)"
      ]
    },
    {
      "cell_type": "code",
      "execution_count": null,
      "metadata": {
        "colab": {
          "base_uri": "https://localhost:8080/"
        },
        "id": "cmtW-RkO9m8I",
        "outputId": "8be92bfa-d9f7-4901-cccc-2ec9df389fc6"
      },
      "outputs": [
        {
          "data": {
            "text/plain": [
              "0       0.3\n",
              "1       0.0\n",
              "2       0.5\n",
              "3      -0.5\n",
              "4       0.9\n",
              "       ... \n",
              "1455   -0.1\n",
              "1456    0.4\n",
              "1457    1.1\n",
              "1458   -0.5\n",
              "1459   -0.4\n",
              "Name: SalePrice, Length: 1460, dtype: float64"
            ]
          },
          "execution_count": 26,
          "metadata": {},
          "output_type": "execute_result"
        }
      ],
      "source": [
        "train_df_norm = train_df_norm.sort_index(ascending=True)\n",
        "train_df_norm['SalePrice']"
      ]
    },
    {
      "cell_type": "code",
      "execution_count": null,
      "metadata": {
        "id": "SMcYHjkm9ncB"
      },
      "outputs": [],
      "source": [
        "loss = [i  * int(79442) for i in history['loss']]\n",
        "loss"
      ]
    },
    {
      "cell_type": "code",
      "execution_count": null,
      "metadata": {
        "colab": {
          "base_uri": "https://localhost:8080/"
        },
        "id": "3Z-Yowk89ncC",
        "outputId": "bb715ce5-5e26-478e-e9bc-77b7051dfcde"
      },
      "outputs": [
        {
          "name": "stderr",
          "output_type": "stream",
          "text": [
            "WARNING:tensorflow:Layers in a Sequential model should only have a single input tensor. Received: inputs={'Id': <tf.Tensor 'IteratorGetNext:161' shape=(None,) dtype=float32>, 'MSSubClass': <tf.Tensor 'IteratorGetNext:186' shape=(None,) dtype=float32>, 'LotFrontage': <tf.Tensor 'IteratorGetNext:180' shape=(None,) dtype=float32>, 'LotArea': <tf.Tensor 'IteratorGetNext:174' shape=(None,) dtype=float32>, 'OverallQual': <tf.Tensor 'IteratorGetNext:229' shape=(None,) dtype=float32>, 'OverallCond': <tf.Tensor 'IteratorGetNext:228' shape=(None,) dtype=float32>, 'YearBuilt': <tf.Tensor 'IteratorGetNext:268' shape=(None,) dtype=float32>, 'YearRemodAdd': <tf.Tensor 'IteratorGetNext:269' shape=(None,) dtype=float32>, 'MasVnrArea': <tf.Tensor 'IteratorGetNext:192' shape=(None,) dtype=float32>, 'BsmtFinSF1': <tf.Tensor 'IteratorGetNext:19' shape=(None,) dtype=float32>, 'BsmtFinSF2': <tf.Tensor 'IteratorGetNext:20' shape=(None,) dtype=float32>, 'BsmtUnfSF': <tf.Tensor 'IteratorGetNext:39' shape=(None,) dtype=float32>, 'TotalBsmtSF': <tf.Tensor 'IteratorGetNext:265' shape=(None,) dtype=float32>, '1stFlrSF': <tf.Tensor 'IteratorGetNext:0' shape=(None,) dtype=float32>, '2ndFlrSF': <tf.Tensor 'IteratorGetNext:1' shape=(None,) dtype=float32>, 'LowQualFinSF': <tf.Tensor 'IteratorGetNext:185' shape=(None,) dtype=float32>, 'GrLivArea': <tf.Tensor 'IteratorGetNext:143' shape=(None,) dtype=float32>, 'BsmtFullBath': <tf.Tensor 'IteratorGetNext:33' shape=(None,) dtype=float32>, 'BsmtHalfBath': <tf.Tensor 'IteratorGetNext:34' shape=(None,) dtype=float32>, 'FullBath': <tf.Tensor 'IteratorGetNext:114' shape=(None,) dtype=float32>, 'HalfBath': <tf.Tensor 'IteratorGetNext:144' shape=(None,) dtype=float32>, 'BedroomAbvGr': <tf.Tensor 'IteratorGetNext:5' shape=(None,) dtype=float32>, 'KitchenAbvGr': <tf.Tensor 'IteratorGetNext:162' shape=(None,) dtype=float32>, 'TotRmsAbvGrd': <tf.Tensor 'IteratorGetNext:264' shape=(None,) dtype=float32>, 'Fireplaces': <tf.Tensor 'IteratorGetNext:107' shape=(None,) dtype=float32>, 'GarageYrBlt': <tf.Tensor 'IteratorGetNext:142' shape=(None,) dtype=float32>, 'GarageCars': <tf.Tensor 'IteratorGetNext:123' shape=(None,) dtype=float32>, 'GarageArea': <tf.Tensor 'IteratorGetNext:122' shape=(None,) dtype=float32>, 'WoodDeckSF': <tf.Tensor 'IteratorGetNext:267' shape=(None,) dtype=float32>, 'OpenPorchSF': <tf.Tensor 'IteratorGetNext:227' shape=(None,) dtype=float32>, 'EnclosedPorch': <tf.Tensor 'IteratorGetNext:60' shape=(None,) dtype=float32>, '3SsnPorch': <tf.Tensor 'IteratorGetNext:2' shape=(None,) dtype=float32>, 'ScreenPorch': <tf.Tensor 'IteratorGetNext:261' shape=(None,) dtype=float32>, 'PoolArea': <tf.Tensor 'IteratorGetNext:233' shape=(None,) dtype=float32>, 'MiscVal': <tf.Tensor 'IteratorGetNext:200' shape=(None,) dtype=float32>, 'MoSold': <tf.Tensor 'IteratorGetNext:201' shape=(None,) dtype=float32>, 'YrSold': <tf.Tensor 'IteratorGetNext:270' shape=(None,) dtype=float32>, 'MSZoning_C (all)': <tf.Tensor 'IteratorGetNext:187' shape=(None,) dtype=float32>, 'MSZoning_FV': <tf.Tensor 'IteratorGetNext:188' shape=(None,) dtype=float32>, 'MSZoning_RH': <tf.Tensor 'IteratorGetNext:189' shape=(None,) dtype=float32>, 'MSZoning_RL': <tf.Tensor 'IteratorGetNext:190' shape=(None,) dtype=float32>, 'MSZoning_RM': <tf.Tensor 'IteratorGetNext:191' shape=(None,) dtype=float32>, 'Street_Grvl': <tf.Tensor 'IteratorGetNext:262' shape=(None,) dtype=float32>, 'Street_Pave': <tf.Tensor 'IteratorGetNext:263' shape=(None,) dtype=float32>, 'Alley_Grvl': <tf.Tensor 'IteratorGetNext:3' shape=(None,) dtype=float32>, 'Alley_Pave': <tf.Tensor 'IteratorGetNext:4' shape=(None,) dtype=float32>, 'LotShape_IR1': <tf.Tensor 'IteratorGetNext:181' shape=(None,) dtype=float32>, 'LotShape_IR2': <tf.Tensor 'IteratorGetNext:182' shape=(None,) dtype=float32>, 'LotShape_IR3': <tf.Tensor 'IteratorGetNext:183' shape=(None,) dtype=float32>, 'LotShape_Reg': <tf.Tensor 'IteratorGetNext:184' shape=(None,) dtype=float32>, 'LandContour_Bnk': <tf.Tensor 'IteratorGetNext:167' shape=(None,) dtype=float32>, 'LandContour_HLS': <tf.Tensor 'IteratorGetNext:168' shape=(None,) dtype=float32>, 'LandContour_Low': <tf.Tensor 'IteratorGetNext:169' shape=(None,) dtype=float32>, 'LandContour_Lvl': <tf.Tensor 'IteratorGetNext:170' shape=(None,) dtype=float32>, 'Utilities_AllPub': <tf.Tensor 'IteratorGetNext:266' shape=(None,) dtype=float32>, 'LotConfig_Corner': <tf.Tensor 'IteratorGetNext:175' shape=(None,) dtype=float32>, 'LotConfig_CulDSac': <tf.Tensor 'IteratorGetNext:176' shape=(None,) dtype=float32>, 'LotConfig_FR2': <tf.Tensor 'IteratorGetNext:177' shape=(None,) dtype=float32>, 'LotConfig_FR3': <tf.Tensor 'IteratorGetNext:178' shape=(None,) dtype=float32>, 'LotConfig_Inside': <tf.Tensor 'IteratorGetNext:179' shape=(None,) dtype=float32>, 'LandSlope_Gtl': <tf.Tensor 'IteratorGetNext:171' shape=(None,) dtype=float32>, 'LandSlope_Mod': <tf.Tensor 'IteratorGetNext:172' shape=(None,) dtype=float32>, 'LandSlope_Sev': <tf.Tensor 'IteratorGetNext:173' shape=(None,) dtype=float32>, 'Neighborhood_Blmngtn': <tf.Tensor 'IteratorGetNext:202' shape=(None,) dtype=float32>, 'Neighborhood_Blueste': <tf.Tensor 'IteratorGetNext:203' shape=(None,) dtype=float32>, 'Neighborhood_BrDale': <tf.Tensor 'IteratorGetNext:204' shape=(None,) dtype=float32>, 'Neighborhood_BrkSide': <tf.Tensor 'IteratorGetNext:205' shape=(None,) dtype=float32>, 'Neighborhood_ClearCr': <tf.Tensor 'IteratorGetNext:206' shape=(None,) dtype=float32>, 'Neighborhood_CollgCr': <tf.Tensor 'IteratorGetNext:207' shape=(None,) dtype=float32>, 'Neighborhood_Crawfor': <tf.Tensor 'IteratorGetNext:208' shape=(None,) dtype=float32>, 'Neighborhood_Edwards': <tf.Tensor 'IteratorGetNext:209' shape=(None,) dtype=float32>, 'Neighborhood_Gilbert': <tf.Tensor 'IteratorGetNext:210' shape=(None,) dtype=float32>, 'Neighborhood_IDOTRR': <tf.Tensor 'IteratorGetNext:211' shape=(None,) dtype=float32>, 'Neighborhood_MeadowV': <tf.Tensor 'IteratorGetNext:212' shape=(None,) dtype=float32>, 'Neighborhood_Mitchel': <tf.Tensor 'IteratorGetNext:213' shape=(None,) dtype=float32>, 'Neighborhood_NAmes': <tf.Tensor 'IteratorGetNext:214' shape=(None,) dtype=float32>, 'Neighborhood_NPkVill': <tf.Tensor 'IteratorGetNext:215' shape=(None,) dtype=float32>, 'Neighborhood_NWAmes': <tf.Tensor 'IteratorGetNext:216' shape=(None,) dtype=float32>, 'Neighborhood_NoRidge': <tf.Tensor 'IteratorGetNext:217' shape=(None,) dtype=float32>, 'Neighborhood_NridgHt': <tf.Tensor 'IteratorGetNext:218' shape=(None,) dtype=float32>, 'Neighborhood_OldTown': <tf.Tensor 'IteratorGetNext:219' shape=(None,) dtype=float32>, 'Neighborhood_SWISU': <tf.Tensor 'IteratorGetNext:220' shape=(None,) dtype=float32>, 'Neighborhood_Sawyer': <tf.Tensor 'IteratorGetNext:221' shape=(None,) dtype=float32>, 'Neighborhood_SawyerW': <tf.Tensor 'IteratorGetNext:222' shape=(None,) dtype=float32>, 'Neighborhood_Somerst': <tf.Tensor 'IteratorGetNext:223' shape=(None,) dtype=float32>, 'Neighborhood_StoneBr': <tf.Tensor 'IteratorGetNext:224' shape=(None,) dtype=float32>, 'Neighborhood_Timber': <tf.Tensor 'IteratorGetNext:225' shape=(None,) dtype=float32>, 'Neighborhood_Veenker': <tf.Tensor 'IteratorGetNext:226' shape=(None,) dtype=float32>, 'Condition1_Artery': <tf.Tensor 'IteratorGetNext:42' shape=(None,) dtype=float32>, 'Condition1_Feedr': <tf.Tensor 'IteratorGetNext:43' shape=(None,) dtype=float32>, 'Condition1_Norm': <tf.Tensor 'IteratorGetNext:44' shape=(None,) dtype=float32>, 'Condition1_PosA': <tf.Tensor 'IteratorGetNext:45' shape=(None,) dtype=float32>, 'Condition1_PosN': <tf.Tensor 'IteratorGetNext:46' shape=(None,) dtype=float32>, 'Condition1_RRAe': <tf.Tensor 'IteratorGetNext:47' shape=(None,) dtype=float32>, 'Condition1_RRAn': <tf.Tensor 'IteratorGetNext:48' shape=(None,) dtype=float32>, 'Condition1_RRNe': <tf.Tensor 'IteratorGetNext:49' shape=(None,) dtype=float32>, 'Condition1_RRNn': <tf.Tensor 'IteratorGetNext:50' shape=(None,) dtype=float32>, 'Condition2_Artery': <tf.Tensor 'IteratorGetNext:51' shape=(None,) dtype=float32>, 'Condition2_Feedr': <tf.Tensor 'IteratorGetNext:52' shape=(None,) dtype=float32>, 'Condition2_Norm': <tf.Tensor 'IteratorGetNext:53' shape=(None,) dtype=float32>, 'Condition2_PosA': <tf.Tensor 'IteratorGetNext:54' shape=(None,) dtype=float32>, 'Condition2_PosN': <tf.Tensor 'IteratorGetNext:55' shape=(None,) dtype=float32>, 'BldgType_1Fam': <tf.Tensor 'IteratorGetNext:6' shape=(None,) dtype=float32>, 'BldgType_2fmCon': <tf.Tensor 'IteratorGetNext:7' shape=(None,) dtype=float32>, 'BldgType_Duplex': <tf.Tensor 'IteratorGetNext:8' shape=(None,) dtype=float32>, 'BldgType_Twnhs': <tf.Tensor 'IteratorGetNext:9' shape=(None,) dtype=float32>, 'BldgType_TwnhsE': <tf.Tensor 'IteratorGetNext:10' shape=(None,) dtype=float32>, 'HouseStyle_1.5Fin': <tf.Tensor 'IteratorGetNext:154' shape=(None,) dtype=float32>, 'HouseStyle_1.5Unf': <tf.Tensor 'IteratorGetNext:155' shape=(None,) dtype=float32>, 'HouseStyle_1Story': <tf.Tensor 'IteratorGetNext:156' shape=(None,) dtype=float32>, 'HouseStyle_2.5Unf': <tf.Tensor 'IteratorGetNext:157' shape=(None,) dtype=float32>, 'HouseStyle_2Story': <tf.Tensor 'IteratorGetNext:158' shape=(None,) dtype=float32>, 'HouseStyle_SFoyer': <tf.Tensor 'IteratorGetNext:159' shape=(None,) dtype=float32>, 'HouseStyle_SLvl': <tf.Tensor 'IteratorGetNext:160' shape=(None,) dtype=float32>, 'RoofStyle_Flat': <tf.Tensor 'IteratorGetNext:240' shape=(None,) dtype=float32>, 'RoofStyle_Gable': <tf.Tensor 'IteratorGetNext:241' shape=(None,) dtype=float32>, 'RoofStyle_Gambrel': <tf.Tensor 'IteratorGetNext:242' shape=(None,) dtype=float32>, 'RoofStyle_Hip': <tf.Tensor 'IteratorGetNext:243' shape=(None,) dtype=float32>, 'RoofStyle_Mansard': <tf.Tensor 'IteratorGetNext:244' shape=(None,) dtype=float32>, 'RoofStyle_Shed': <tf.Tensor 'IteratorGetNext:245' shape=(None,) dtype=float32>, 'RoofMatl_CompShg': <tf.Tensor 'IteratorGetNext:236' shape=(None,) dtype=float32>, 'RoofMatl_Tar&Grv': <tf.Tensor 'IteratorGetNext:237' shape=(None,) dtype=float32>, 'RoofMatl_WdShake': <tf.Tensor 'IteratorGetNext:238' shape=(None,) dtype=float32>, 'RoofMatl_WdShngl': <tf.Tensor 'IteratorGetNext:239' shape=(None,) dtype=float32>, 'Exterior1st_AsbShng': <tf.Tensor 'IteratorGetNext:70' shape=(None,) dtype=float32>, 'Exterior1st_AsphShn': <tf.Tensor 'IteratorGetNext:71' shape=(None,) dtype=float32>, 'Exterior1st_BrkComm': <tf.Tensor 'IteratorGetNext:72' shape=(None,) dtype=float32>, 'Exterior1st_BrkFace': <tf.Tensor 'IteratorGetNext:73' shape=(None,) dtype=float32>, 'Exterior1st_CBlock': <tf.Tensor 'IteratorGetNext:74' shape=(None,) dtype=float32>, 'Exterior1st_CemntBd': <tf.Tensor 'IteratorGetNext:75' shape=(None,) dtype=float32>, 'Exterior1st_HdBoard': <tf.Tensor 'IteratorGetNext:76' shape=(None,) dtype=float32>, 'Exterior1st_MetalSd': <tf.Tensor 'IteratorGetNext:77' shape=(None,) dtype=float32>, 'Exterior1st_Plywood': <tf.Tensor 'IteratorGetNext:78' shape=(None,) dtype=float32>, 'Exterior1st_Stucco': <tf.Tensor 'IteratorGetNext:79' shape=(None,) dtype=float32>, 'Exterior1st_VinylSd': <tf.Tensor 'IteratorGetNext:80' shape=(None,) dtype=float32>, 'Exterior1st_Wd Sdng': <tf.Tensor 'IteratorGetNext:81' shape=(None,) dtype=float32>, 'Exterior1st_WdShing': <tf.Tensor 'IteratorGetNext:82' shape=(None,) dtype=float32>, 'Exterior2nd_AsbShng': <tf.Tensor 'IteratorGetNext:83' shape=(None,) dtype=float32>, 'Exterior2nd_AsphShn': <tf.Tensor 'IteratorGetNext:84' shape=(None,) dtype=float32>, 'Exterior2nd_Brk Cmn': <tf.Tensor 'IteratorGetNext:85' shape=(None,) dtype=float32>, 'Exterior2nd_BrkFace': <tf.Tensor 'IteratorGetNext:86' shape=(None,) dtype=float32>, 'Exterior2nd_CBlock': <tf.Tensor 'IteratorGetNext:87' shape=(None,) dtype=float32>, 'Exterior2nd_CmentBd': <tf.Tensor 'IteratorGetNext:88' shape=(None,) dtype=float32>, 'Exterior2nd_HdBoard': <tf.Tensor 'IteratorGetNext:89' shape=(None,) dtype=float32>, 'Exterior2nd_ImStucc': <tf.Tensor 'IteratorGetNext:90' shape=(None,) dtype=float32>, 'Exterior2nd_MetalSd': <tf.Tensor 'IteratorGetNext:91' shape=(None,) dtype=float32>, 'Exterior2nd_Plywood': <tf.Tensor 'IteratorGetNext:92' shape=(None,) dtype=float32>, 'Exterior2nd_Stone': <tf.Tensor 'IteratorGetNext:93' shape=(None,) dtype=float32>, 'Exterior2nd_Stucco': <tf.Tensor 'IteratorGetNext:94' shape=(None,) dtype=float32>, 'Exterior2nd_VinylSd': <tf.Tensor 'IteratorGetNext:95' shape=(None,) dtype=float32>, 'Exterior2nd_Wd Sdng': <tf.Tensor 'IteratorGetNext:96' shape=(None,) dtype=float32>, 'Exterior2nd_Wd Shng': <tf.Tensor 'IteratorGetNext:97' shape=(None,) dtype=float32>, 'MasVnrType_BrkCmn': <tf.Tensor 'IteratorGetNext:193' shape=(None,) dtype=float32>, 'MasVnrType_BrkFace': <tf.Tensor 'IteratorGetNext:194' shape=(None,) dtype=float32>, 'MasVnrType_None': <tf.Tensor 'IteratorGetNext:195' shape=(None,) dtype=float32>, 'MasVnrType_Stone': <tf.Tensor 'IteratorGetNext:196' shape=(None,) dtype=float32>, 'ExterQual_Ex': <tf.Tensor 'IteratorGetNext:66' shape=(None,) dtype=float32>, 'ExterQual_Fa': <tf.Tensor 'IteratorGetNext:67' shape=(None,) dtype=float32>, 'ExterQual_Gd': <tf.Tensor 'IteratorGetNext:68' shape=(None,) dtype=float32>, 'ExterQual_TA': <tf.Tensor 'IteratorGetNext:69' shape=(None,) dtype=float32>, 'ExterCond_Ex': <tf.Tensor 'IteratorGetNext:61' shape=(None,) dtype=float32>, 'ExterCond_Fa': <tf.Tensor 'IteratorGetNext:62' shape=(None,) dtype=float32>, 'ExterCond_Gd': <tf.Tensor 'IteratorGetNext:63' shape=(None,) dtype=float32>, 'ExterCond_Po': <tf.Tensor 'IteratorGetNext:64' shape=(None,) dtype=float32>, 'ExterCond_TA': <tf.Tensor 'IteratorGetNext:65' shape=(None,) dtype=float32>, 'Foundation_BrkTil': <tf.Tensor 'IteratorGetNext:108' shape=(None,) dtype=float32>, 'Foundation_CBlock': <tf.Tensor 'IteratorGetNext:109' shape=(None,) dtype=float32>, 'Foundation_PConc': <tf.Tensor 'IteratorGetNext:110' shape=(None,) dtype=float32>, 'Foundation_Slab': <tf.Tensor 'IteratorGetNext:111' shape=(None,) dtype=float32>, 'Foundation_Stone': <tf.Tensor 'IteratorGetNext:112' shape=(None,) dtype=float32>, 'Foundation_Wood': <tf.Tensor 'IteratorGetNext:113' shape=(None,) dtype=float32>, 'BsmtQual_Ex': <tf.Tensor 'IteratorGetNext:35' shape=(None,) dtype=float32>, 'BsmtQual_Fa': <tf.Tensor 'IteratorGetNext:36' shape=(None,) dtype=float32>, 'BsmtQual_Gd': <tf.Tensor 'IteratorGetNext:37' shape=(None,) dtype=float32>, 'BsmtQual_TA': <tf.Tensor 'IteratorGetNext:38' shape=(None,) dtype=float32>, 'BsmtCond_Fa': <tf.Tensor 'IteratorGetNext:11' shape=(None,) dtype=float32>, 'BsmtCond_Gd': <tf.Tensor 'IteratorGetNext:12' shape=(None,) dtype=float32>, 'BsmtCond_Po': <tf.Tensor 'IteratorGetNext:13' shape=(None,) dtype=float32>, 'BsmtCond_TA': <tf.Tensor 'IteratorGetNext:14' shape=(None,) dtype=float32>, 'BsmtExposure_Av': <tf.Tensor 'IteratorGetNext:15' shape=(None,) dtype=float32>, 'BsmtExposure_Gd': <tf.Tensor 'IteratorGetNext:16' shape=(None,) dtype=float32>, 'BsmtExposure_Mn': <tf.Tensor 'IteratorGetNext:17' shape=(None,) dtype=float32>, 'BsmtExposure_No': <tf.Tensor 'IteratorGetNext:18' shape=(None,) dtype=float32>, 'BsmtFinType1_ALQ': <tf.Tensor 'IteratorGetNext:21' shape=(None,) dtype=float32>, 'BsmtFinType1_BLQ': <tf.Tensor 'IteratorGetNext:22' shape=(None,) dtype=float32>, 'BsmtFinType1_GLQ': <tf.Tensor 'IteratorGetNext:23' shape=(None,) dtype=float32>, 'BsmtFinType1_LwQ': <tf.Tensor 'IteratorGetNext:24' shape=(None,) dtype=float32>, 'BsmtFinType1_Rec': <tf.Tensor 'IteratorGetNext:25' shape=(None,) dtype=float32>, 'BsmtFinType1_Unf': <tf.Tensor 'IteratorGetNext:26' shape=(None,) dtype=float32>, 'BsmtFinType2_ALQ': <tf.Tensor 'IteratorGetNext:27' shape=(None,) dtype=float32>, 'BsmtFinType2_BLQ': <tf.Tensor 'IteratorGetNext:28' shape=(None,) dtype=float32>, 'BsmtFinType2_GLQ': <tf.Tensor 'IteratorGetNext:29' shape=(None,) dtype=float32>, 'BsmtFinType2_LwQ': <tf.Tensor 'IteratorGetNext:30' shape=(None,) dtype=float32>, 'BsmtFinType2_Rec': <tf.Tensor 'IteratorGetNext:31' shape=(None,) dtype=float32>, 'BsmtFinType2_Unf': <tf.Tensor 'IteratorGetNext:32' shape=(None,) dtype=float32>, 'Heating_GasA': <tf.Tensor 'IteratorGetNext:150' shape=(None,) dtype=float32>, 'Heating_GasW': <tf.Tensor 'IteratorGetNext:151' shape=(None,) dtype=float32>, 'Heating_Grav': <tf.Tensor 'IteratorGetNext:152' shape=(None,) dtype=float32>, 'Heating_Wall': <tf.Tensor 'IteratorGetNext:153' shape=(None,) dtype=float32>, 'HeatingQC_Ex': <tf.Tensor 'IteratorGetNext:145' shape=(None,) dtype=float32>, 'HeatingQC_Fa': <tf.Tensor 'IteratorGetNext:146' shape=(None,) dtype=float32>, 'HeatingQC_Gd': <tf.Tensor 'IteratorGetNext:147' shape=(None,) dtype=float32>, 'HeatingQC_Po': <tf.Tensor 'IteratorGetNext:148' shape=(None,) dtype=float32>, 'HeatingQC_TA': <tf.Tensor 'IteratorGetNext:149' shape=(None,) dtype=float32>, 'CentralAir_N': <tf.Tensor 'IteratorGetNext:40' shape=(None,) dtype=float32>, 'CentralAir_Y': <tf.Tensor 'IteratorGetNext:41' shape=(None,) dtype=float32>, 'Electrical_FuseA': <tf.Tensor 'IteratorGetNext:56' shape=(None,) dtype=float32>, 'Electrical_FuseF': <tf.Tensor 'IteratorGetNext:57' shape=(None,) dtype=float32>, 'Electrical_FuseP': <tf.Tensor 'IteratorGetNext:58' shape=(None,) dtype=float32>, 'Electrical_SBrkr': <tf.Tensor 'IteratorGetNext:59' shape=(None,) dtype=float32>, 'KitchenQual_Ex': <tf.Tensor 'IteratorGetNext:163' shape=(None,) dtype=float32>, 'KitchenQual_Fa': <tf.Tensor 'IteratorGetNext:164' shape=(None,) dtype=float32>, 'KitchenQual_Gd': <tf.Tensor 'IteratorGetNext:165' shape=(None,) dtype=float32>, 'KitchenQual_TA': <tf.Tensor 'IteratorGetNext:166' shape=(None,) dtype=float32>, 'Functional_Maj1': <tf.Tensor 'IteratorGetNext:115' shape=(None,) dtype=float32>, 'Functional_Maj2': <tf.Tensor 'IteratorGetNext:116' shape=(None,) dtype=float32>, 'Functional_Min1': <tf.Tensor 'IteratorGetNext:117' shape=(None,) dtype=float32>, 'Functional_Min2': <tf.Tensor 'IteratorGetNext:118' shape=(None,) dtype=float32>, 'Functional_Mod': <tf.Tensor 'IteratorGetNext:119' shape=(None,) dtype=float32>, 'Functional_Sev': <tf.Tensor 'IteratorGetNext:120' shape=(None,) dtype=float32>, 'Functional_Typ': <tf.Tensor 'IteratorGetNext:121' shape=(None,) dtype=float32>, 'FireplaceQu_Ex': <tf.Tensor 'IteratorGetNext:102' shape=(None,) dtype=float32>, 'FireplaceQu_Fa': <tf.Tensor 'IteratorGetNext:103' shape=(None,) dtype=float32>, 'FireplaceQu_Gd': <tf.Tensor 'IteratorGetNext:104' shape=(None,) dtype=float32>, 'FireplaceQu_Po': <tf.Tensor 'IteratorGetNext:105' shape=(None,) dtype=float32>, 'FireplaceQu_TA': <tf.Tensor 'IteratorGetNext:106' shape=(None,) dtype=float32>, 'GarageType_2Types': <tf.Tensor 'IteratorGetNext:136' shape=(None,) dtype=float32>, 'GarageType_Attchd': <tf.Tensor 'IteratorGetNext:137' shape=(None,) dtype=float32>, 'GarageType_Basment': <tf.Tensor 'IteratorGetNext:138' shape=(None,) dtype=float32>, 'GarageType_BuiltIn': <tf.Tensor 'IteratorGetNext:139' shape=(None,) dtype=float32>, 'GarageType_CarPort': <tf.Tensor 'IteratorGetNext:140' shape=(None,) dtype=float32>, 'GarageType_Detchd': <tf.Tensor 'IteratorGetNext:141' shape=(None,) dtype=float32>, 'GarageFinish_Fin': <tf.Tensor 'IteratorGetNext:129' shape=(None,) dtype=float32>, 'GarageFinish_RFn': <tf.Tensor 'IteratorGetNext:130' shape=(None,) dtype=float32>, 'GarageFinish_Unf': <tf.Tensor 'IteratorGetNext:131' shape=(None,) dtype=float32>, 'GarageQual_Fa': <tf.Tensor 'IteratorGetNext:132' shape=(None,) dtype=float32>, 'GarageQual_Gd': <tf.Tensor 'IteratorGetNext:133' shape=(None,) dtype=float32>, 'GarageQual_Po': <tf.Tensor 'IteratorGetNext:134' shape=(None,) dtype=float32>, 'GarageQual_TA': <tf.Tensor 'IteratorGetNext:135' shape=(None,) dtype=float32>, 'GarageCond_Ex': <tf.Tensor 'IteratorGetNext:124' shape=(None,) dtype=float32>, 'GarageCond_Fa': <tf.Tensor 'IteratorGetNext:125' shape=(None,) dtype=float32>, 'GarageCond_Gd': <tf.Tensor 'IteratorGetNext:126' shape=(None,) dtype=float32>, 'GarageCond_Po': <tf.Tensor 'IteratorGetNext:127' shape=(None,) dtype=float32>, 'GarageCond_TA': <tf.Tensor 'IteratorGetNext:128' shape=(None,) dtype=float32>, 'PavedDrive_N': <tf.Tensor 'IteratorGetNext:230' shape=(None,) dtype=float32>, 'PavedDrive_P': <tf.Tensor 'IteratorGetNext:231' shape=(None,) dtype=float32>, 'PavedDrive_Y': <tf.Tensor 'IteratorGetNext:232' shape=(None,) dtype=float32>, 'PoolQC_Ex': <tf.Tensor 'IteratorGetNext:234' shape=(None,) dtype=float32>, 'PoolQC_Gd': <tf.Tensor 'IteratorGetNext:235' shape=(None,) dtype=float32>, 'Fence_GdPrv': <tf.Tensor 'IteratorGetNext:98' shape=(None,) dtype=float32>, 'Fence_GdWo': <tf.Tensor 'IteratorGetNext:99' shape=(None,) dtype=float32>, 'Fence_MnPrv': <tf.Tensor 'IteratorGetNext:100' shape=(None,) dtype=float32>, 'Fence_MnWw': <tf.Tensor 'IteratorGetNext:101' shape=(None,) dtype=float32>, 'MiscFeature_Gar2': <tf.Tensor 'IteratorGetNext:197' shape=(None,) dtype=float32>, 'MiscFeature_Othr': <tf.Tensor 'IteratorGetNext:198' shape=(None,) dtype=float32>, 'MiscFeature_Shed': <tf.Tensor 'IteratorGetNext:199' shape=(None,) dtype=float32>, 'SaleType_COD': <tf.Tensor 'IteratorGetNext:252' shape=(None,) dtype=float32>, 'SaleType_CWD': <tf.Tensor 'IteratorGetNext:253' shape=(None,) dtype=float32>, 'SaleType_Con': <tf.Tensor 'IteratorGetNext:254' shape=(None,) dtype=float32>, 'SaleType_ConLD': <tf.Tensor 'IteratorGetNext:255' shape=(None,) dtype=float32>, 'SaleType_ConLI': <tf.Tensor 'IteratorGetNext:256' shape=(None,) dtype=float32>, 'SaleType_ConLw': <tf.Tensor 'IteratorGetNext:257' shape=(None,) dtype=float32>, 'SaleType_New': <tf.Tensor 'IteratorGetNext:258' shape=(None,) dtype=float32>, 'SaleType_Oth': <tf.Tensor 'IteratorGetNext:259' shape=(None,) dtype=float32>, 'SaleType_WD': <tf.Tensor 'IteratorGetNext:260' shape=(None,) dtype=float32>, 'SaleCondition_Abnorml': <tf.Tensor 'IteratorGetNext:246' shape=(None,) dtype=float32>, 'SaleCondition_AdjLand': <tf.Tensor 'IteratorGetNext:247' shape=(None,) dtype=float32>, 'SaleCondition_Alloca': <tf.Tensor 'IteratorGetNext:248' shape=(None,) dtype=float32>, 'SaleCondition_Family': <tf.Tensor 'IteratorGetNext:249' shape=(None,) dtype=float32>, 'SaleCondition_Normal': <tf.Tensor 'IteratorGetNext:250' shape=(None,) dtype=float32>, 'SaleCondition_Partial': <tf.Tensor 'IteratorGetNext:251' shape=(None,) dtype=float32>}. Consider rewriting this model with the Functional API.\n"
          ]
        },
        {
          "name": "stdout",
          "output_type": "stream",
          "text": [
            "46/46 [==============================] - 1s 13ms/step\n"
          ]
        },
        {
          "data": {
            "text/plain": [
              "0      -0.7\n",
              "1      -0.2\n",
              "2       0.3\n",
              "3       0.3\n",
              "4       0.2\n",
              "       ... \n",
              "1454   -1.1\n",
              "1455   -1.3\n",
              "1456   -0.1\n",
              "1457   -0.8\n",
              "1458    0.6\n",
              "Name: 0, Length: 1459, dtype: float32"
            ]
          },
          "execution_count": 31,
          "metadata": {},
          "output_type": "execute_result"
        }
      ],
      "source": [
        "#TRAINING PREDICTIONS VS ACTUAL\n",
        "testtrain_features = {name:np.array(value) for name, value in test_df_norm.items()}\n",
        "predictions = my_model.predict(testtrain_features)\n",
        "trainPredictDF = pd.DataFrame(predictions)\n",
        "\n",
        "trainPredictDF['SalePrice'] = train_df['SalePrice']\n",
        "trainPredictDF[0]"
      ]
    },
    {
      "cell_type": "code",
      "execution_count": null,
      "metadata": {
        "id": "lv28xy3N-Yjk"
      },
      "outputs": [],
      "source": [
        "train_df_norm['SalePrice']"
      ]
    },
    {
      "cell_type": "code",
      "execution_count": null,
      "metadata": {
        "colab": {
          "base_uri": "https://localhost:8080/",
          "height": 424
        },
        "id": "JsTG7zry9ncD",
        "outputId": "7c263dd8-b055-4bcb-fa8d-ad7551d81846"
      },
      "outputs": [
        {
          "data": {
            "text/html": [
              "\n",
              "  <div id=\"df-dad25626-2e3c-4804-8e69-07574e6ad464\">\n",
              "    <div class=\"colab-df-container\">\n",
              "      <div>\n",
              "<style scoped>\n",
              "    .dataframe tbody tr th:only-of-type {\n",
              "        vertical-align: middle;\n",
              "    }\n",
              "\n",
              "    .dataframe tbody tr th {\n",
              "        vertical-align: top;\n",
              "    }\n",
              "\n",
              "    .dataframe thead th {\n",
              "        text-align: right;\n",
              "    }\n",
              "</style>\n",
              "<table border=\"1\" class=\"dataframe\">\n",
              "  <thead>\n",
              "    <tr style=\"text-align: right;\">\n",
              "      <th></th>\n",
              "      <th>predictions</th>\n",
              "      <th>SalePrice</th>\n",
              "    </tr>\n",
              "  </thead>\n",
              "  <tbody>\n",
              "    <tr>\n",
              "      <th>0</th>\n",
              "      <td>126851.7</td>\n",
              "      <td>208500</td>\n",
              "    </tr>\n",
              "    <tr>\n",
              "      <th>1</th>\n",
              "      <td>165647.9</td>\n",
              "      <td>181500</td>\n",
              "    </tr>\n",
              "    <tr>\n",
              "      <th>2</th>\n",
              "      <td>207351.8</td>\n",
              "      <td>223500</td>\n",
              "    </tr>\n",
              "    <tr>\n",
              "      <th>3</th>\n",
              "      <td>204315.0</td>\n",
              "      <td>140000</td>\n",
              "    </tr>\n",
              "    <tr>\n",
              "      <th>4</th>\n",
              "      <td>193264.0</td>\n",
              "      <td>250000</td>\n",
              "    </tr>\n",
              "    <tr>\n",
              "      <th>...</th>\n",
              "      <td>...</td>\n",
              "      <td>...</td>\n",
              "    </tr>\n",
              "    <tr>\n",
              "      <th>1454</th>\n",
              "      <td>91284.8</td>\n",
              "      <td>185000</td>\n",
              "    </tr>\n",
              "    <tr>\n",
              "      <th>1455</th>\n",
              "      <td>80504.6</td>\n",
              "      <td>175000</td>\n",
              "    </tr>\n",
              "    <tr>\n",
              "      <th>1456</th>\n",
              "      <td>173702.5</td>\n",
              "      <td>210000</td>\n",
              "    </tr>\n",
              "    <tr>\n",
              "      <th>1457</th>\n",
              "      <td>114781.3</td>\n",
              "      <td>266500</td>\n",
              "    </tr>\n",
              "    <tr>\n",
              "      <th>1458</th>\n",
              "      <td>225081.6</td>\n",
              "      <td>142125</td>\n",
              "    </tr>\n",
              "  </tbody>\n",
              "</table>\n",
              "<p>1459 rows × 2 columns</p>\n",
              "</div>\n",
              "      <button class=\"colab-df-convert\" onclick=\"convertToInteractive('df-dad25626-2e3c-4804-8e69-07574e6ad464')\"\n",
              "              title=\"Convert this dataframe to an interactive table.\"\n",
              "              style=\"display:none;\">\n",
              "        \n",
              "  <svg xmlns=\"http://www.w3.org/2000/svg\" height=\"24px\"viewBox=\"0 0 24 24\"\n",
              "       width=\"24px\">\n",
              "    <path d=\"M0 0h24v24H0V0z\" fill=\"none\"/>\n",
              "    <path d=\"M18.56 5.44l.94 2.06.94-2.06 2.06-.94-2.06-.94-.94-2.06-.94 2.06-2.06.94zm-11 1L8.5 8.5l.94-2.06 2.06-.94-2.06-.94L8.5 2.5l-.94 2.06-2.06.94zm10 10l.94 2.06.94-2.06 2.06-.94-2.06-.94-.94-2.06-.94 2.06-2.06.94z\"/><path d=\"M17.41 7.96l-1.37-1.37c-.4-.4-.92-.59-1.43-.59-.52 0-1.04.2-1.43.59L10.3 9.45l-7.72 7.72c-.78.78-.78 2.05 0 2.83L4 21.41c.39.39.9.59 1.41.59.51 0 1.02-.2 1.41-.59l7.78-7.78 2.81-2.81c.8-.78.8-2.07 0-2.86zM5.41 20L4 18.59l7.72-7.72 1.47 1.35L5.41 20z\"/>\n",
              "  </svg>\n",
              "      </button>\n",
              "      \n",
              "  <style>\n",
              "    .colab-df-container {\n",
              "      display:flex;\n",
              "      flex-wrap:wrap;\n",
              "      gap: 12px;\n",
              "    }\n",
              "\n",
              "    .colab-df-convert {\n",
              "      background-color: #E8F0FE;\n",
              "      border: none;\n",
              "      border-radius: 50%;\n",
              "      cursor: pointer;\n",
              "      display: none;\n",
              "      fill: #1967D2;\n",
              "      height: 32px;\n",
              "      padding: 0 0 0 0;\n",
              "      width: 32px;\n",
              "    }\n",
              "\n",
              "    .colab-df-convert:hover {\n",
              "      background-color: #E2EBFA;\n",
              "      box-shadow: 0px 1px 2px rgba(60, 64, 67, 0.3), 0px 1px 3px 1px rgba(60, 64, 67, 0.15);\n",
              "      fill: #174EA6;\n",
              "    }\n",
              "\n",
              "    [theme=dark] .colab-df-convert {\n",
              "      background-color: #3B4455;\n",
              "      fill: #D2E3FC;\n",
              "    }\n",
              "\n",
              "    [theme=dark] .colab-df-convert:hover {\n",
              "      background-color: #434B5C;\n",
              "      box-shadow: 0px 1px 3px 1px rgba(0, 0, 0, 0.15);\n",
              "      filter: drop-shadow(0px 1px 2px rgba(0, 0, 0, 0.3));\n",
              "      fill: #FFFFFF;\n",
              "    }\n",
              "  </style>\n",
              "\n",
              "      <script>\n",
              "        const buttonEl =\n",
              "          document.querySelector('#df-dad25626-2e3c-4804-8e69-07574e6ad464 button.colab-df-convert');\n",
              "        buttonEl.style.display =\n",
              "          google.colab.kernel.accessAllowed ? 'block' : 'none';\n",
              "\n",
              "        async function convertToInteractive(key) {\n",
              "          const element = document.querySelector('#df-dad25626-2e3c-4804-8e69-07574e6ad464');\n",
              "          const dataTable =\n",
              "            await google.colab.kernel.invokeFunction('convertToInteractive',\n",
              "                                                     [key], {});\n",
              "          if (!dataTable) return;\n",
              "\n",
              "          const docLinkHtml = 'Like what you see? Visit the ' +\n",
              "            '<a target=\"_blank\" href=https://colab.research.google.com/notebooks/data_table.ipynb>data table notebook</a>'\n",
              "            + ' to learn more about interactive tables.';\n",
              "          element.innerHTML = '';\n",
              "          dataTable['output_type'] = 'display_data';\n",
              "          await google.colab.output.renderOutput(dataTable, element);\n",
              "          const docLink = document.createElement('div');\n",
              "          docLink.innerHTML = docLinkHtml;\n",
              "          element.appendChild(docLink);\n",
              "        }\n",
              "      </script>\n",
              "    </div>\n",
              "  </div>\n",
              "  "
            ],
            "text/plain": [
              "      predictions  SalePrice\n",
              "0        126851.7     208500\n",
              "1        165647.9     181500\n",
              "2        207351.8     223500\n",
              "3        204315.0     140000\n",
              "4        193264.0     250000\n",
              "...           ...        ...\n",
              "1454      91284.8     185000\n",
              "1455      80504.6     175000\n",
              "1456     173702.5     210000\n",
              "1457     114781.3     266500\n",
              "1458     225081.6     142125\n",
              "\n",
              "[1459 rows x 2 columns]"
            ]
          },
          "execution_count": 32,
          "metadata": {},
          "output_type": "execute_result"
        }
      ],
      "source": [
        "trainPredictDF.rename(columns={0:'predictions'}, inplace=True)\n",
        "trainPredictDF['predictions'] = (trainPredictDF['predictions'] * 79442) + 180921\n",
        "trainPredictDF['SalePrice']"
      ]
    },
    {
      "cell_type": "code",
      "execution_count": null,
      "metadata": {
        "id": "euDrPLlzm7bM"
      },
      "outputs": [],
      "source": [
        "trainPredictDF = trainPredictDF.drop('SalePrice', axis=1)"
      ]
    },
    {
      "cell_type": "code",
      "execution_count": null,
      "metadata": {
        "id": "mpQ2pQdEqRO0"
      },
      "outputs": [],
      "source": [
        "trainPredictDF.rename(columns={'predictions':'SalePrice'}, inplace=True)\n",
        "trainPredictDF.rename(columns={index:'Id'}, inplace=True)"
      ]
    },
    {
      "cell_type": "code",
      "execution_count": null,
      "metadata": {
        "id": "i4OOhAbkrKae"
      },
      "outputs": [],
      "source": [
        "trainPredictDF.index.name='Id'"
      ]
    },
    {
      "cell_type": "code",
      "execution_count": null,
      "metadata": {
        "colab": {
          "base_uri": "https://localhost:8080/"
        },
        "id": "OM8dsl4Trj6P",
        "outputId": "51cd8296-ab30-4ba1-e8ed-cf7dc00c4e64"
      },
      "outputs": [
        {
          "name": "stderr",
          "output_type": "stream",
          "text": [
            "/usr/local/lib/python3.7/dist-packages/ipykernel_launcher.py:3: SettingWithCopyWarning: \n",
            "A value is trying to be set on a copy of a slice from a DataFrame\n",
            "\n",
            "See the caveats in the documentation: https://pandas.pydata.org/pandas-docs/stable/user_guide/indexing.html#returning-a-view-versus-a-copy\n",
            "  This is separate from the ipykernel package so we can avoid doing imports until\n"
          ]
        }
      ],
      "source": [
        "i = 0\n",
        "for index in trainPredictDF['SalePrice']:\n",
        "  trainPredictDF['Id'][i] = 1461 + i\n",
        "  i+=1"
      ]
    },
    {
      "cell_type": "code",
      "execution_count": null,
      "metadata": {
        "id": "DdRDFbEKqn3N"
      },
      "outputs": [],
      "source": [
        "trainPredictDF['Id'] = trainPredictDF['Id'] + 1461"
      ]
    },
    {
      "cell_type": "code",
      "execution_count": null,
      "metadata": {
        "colab": {
          "base_uri": "https://localhost:8080/",
          "height": 455
        },
        "id": "d-y19anZneHd",
        "outputId": "22e2bbcc-24e2-4caa-ec6f-9f15d015c658"
      },
      "outputs": [
        {
          "data": {
            "text/html": [
              "\n",
              "  <div id=\"df-f53b9801-ce82-4b56-9e04-a3afe98431ae\">\n",
              "    <div class=\"colab-df-container\">\n",
              "      <div>\n",
              "<style scoped>\n",
              "    .dataframe tbody tr th:only-of-type {\n",
              "        vertical-align: middle;\n",
              "    }\n",
              "\n",
              "    .dataframe tbody tr th {\n",
              "        vertical-align: top;\n",
              "    }\n",
              "\n",
              "    .dataframe thead th {\n",
              "        text-align: right;\n",
              "    }\n",
              "</style>\n",
              "<table border=\"1\" class=\"dataframe\">\n",
              "  <thead>\n",
              "    <tr style=\"text-align: right;\">\n",
              "      <th></th>\n",
              "      <th>Id</th>\n",
              "      <th>SalePrice</th>\n",
              "    </tr>\n",
              "    <tr>\n",
              "      <th>Id</th>\n",
              "      <th></th>\n",
              "      <th></th>\n",
              "    </tr>\n",
              "  </thead>\n",
              "  <tbody>\n",
              "    <tr>\n",
              "      <th>0</th>\n",
              "      <td>1461</td>\n",
              "      <td>126851.7</td>\n",
              "    </tr>\n",
              "    <tr>\n",
              "      <th>1</th>\n",
              "      <td>1462</td>\n",
              "      <td>165647.9</td>\n",
              "    </tr>\n",
              "    <tr>\n",
              "      <th>2</th>\n",
              "      <td>1463</td>\n",
              "      <td>207351.8</td>\n",
              "    </tr>\n",
              "    <tr>\n",
              "      <th>3</th>\n",
              "      <td>1464</td>\n",
              "      <td>204315.0</td>\n",
              "    </tr>\n",
              "    <tr>\n",
              "      <th>4</th>\n",
              "      <td>1465</td>\n",
              "      <td>193264.0</td>\n",
              "    </tr>\n",
              "    <tr>\n",
              "      <th>...</th>\n",
              "      <td>...</td>\n",
              "      <td>...</td>\n",
              "    </tr>\n",
              "    <tr>\n",
              "      <th>1454</th>\n",
              "      <td>2915</td>\n",
              "      <td>91284.8</td>\n",
              "    </tr>\n",
              "    <tr>\n",
              "      <th>1455</th>\n",
              "      <td>2916</td>\n",
              "      <td>80504.6</td>\n",
              "    </tr>\n",
              "    <tr>\n",
              "      <th>1456</th>\n",
              "      <td>2917</td>\n",
              "      <td>173702.5</td>\n",
              "    </tr>\n",
              "    <tr>\n",
              "      <th>1457</th>\n",
              "      <td>2918</td>\n",
              "      <td>114781.3</td>\n",
              "    </tr>\n",
              "    <tr>\n",
              "      <th>1458</th>\n",
              "      <td>2919</td>\n",
              "      <td>225081.6</td>\n",
              "    </tr>\n",
              "  </tbody>\n",
              "</table>\n",
              "<p>1459 rows × 2 columns</p>\n",
              "</div>\n",
              "      <button class=\"colab-df-convert\" onclick=\"convertToInteractive('df-f53b9801-ce82-4b56-9e04-a3afe98431ae')\"\n",
              "              title=\"Convert this dataframe to an interactive table.\"\n",
              "              style=\"display:none;\">\n",
              "        \n",
              "  <svg xmlns=\"http://www.w3.org/2000/svg\" height=\"24px\"viewBox=\"0 0 24 24\"\n",
              "       width=\"24px\">\n",
              "    <path d=\"M0 0h24v24H0V0z\" fill=\"none\"/>\n",
              "    <path d=\"M18.56 5.44l.94 2.06.94-2.06 2.06-.94-2.06-.94-.94-2.06-.94 2.06-2.06.94zm-11 1L8.5 8.5l.94-2.06 2.06-.94-2.06-.94L8.5 2.5l-.94 2.06-2.06.94zm10 10l.94 2.06.94-2.06 2.06-.94-2.06-.94-.94-2.06-.94 2.06-2.06.94z\"/><path d=\"M17.41 7.96l-1.37-1.37c-.4-.4-.92-.59-1.43-.59-.52 0-1.04.2-1.43.59L10.3 9.45l-7.72 7.72c-.78.78-.78 2.05 0 2.83L4 21.41c.39.39.9.59 1.41.59.51 0 1.02-.2 1.41-.59l7.78-7.78 2.81-2.81c.8-.78.8-2.07 0-2.86zM5.41 20L4 18.59l7.72-7.72 1.47 1.35L5.41 20z\"/>\n",
              "  </svg>\n",
              "      </button>\n",
              "      \n",
              "  <style>\n",
              "    .colab-df-container {\n",
              "      display:flex;\n",
              "      flex-wrap:wrap;\n",
              "      gap: 12px;\n",
              "    }\n",
              "\n",
              "    .colab-df-convert {\n",
              "      background-color: #E8F0FE;\n",
              "      border: none;\n",
              "      border-radius: 50%;\n",
              "      cursor: pointer;\n",
              "      display: none;\n",
              "      fill: #1967D2;\n",
              "      height: 32px;\n",
              "      padding: 0 0 0 0;\n",
              "      width: 32px;\n",
              "    }\n",
              "\n",
              "    .colab-df-convert:hover {\n",
              "      background-color: #E2EBFA;\n",
              "      box-shadow: 0px 1px 2px rgba(60, 64, 67, 0.3), 0px 1px 3px 1px rgba(60, 64, 67, 0.15);\n",
              "      fill: #174EA6;\n",
              "    }\n",
              "\n",
              "    [theme=dark] .colab-df-convert {\n",
              "      background-color: #3B4455;\n",
              "      fill: #D2E3FC;\n",
              "    }\n",
              "\n",
              "    [theme=dark] .colab-df-convert:hover {\n",
              "      background-color: #434B5C;\n",
              "      box-shadow: 0px 1px 3px 1px rgba(0, 0, 0, 0.15);\n",
              "      filter: drop-shadow(0px 1px 2px rgba(0, 0, 0, 0.3));\n",
              "      fill: #FFFFFF;\n",
              "    }\n",
              "  </style>\n",
              "\n",
              "      <script>\n",
              "        const buttonEl =\n",
              "          document.querySelector('#df-f53b9801-ce82-4b56-9e04-a3afe98431ae button.colab-df-convert');\n",
              "        buttonEl.style.display =\n",
              "          google.colab.kernel.accessAllowed ? 'block' : 'none';\n",
              "\n",
              "        async function convertToInteractive(key) {\n",
              "          const element = document.querySelector('#df-f53b9801-ce82-4b56-9e04-a3afe98431ae');\n",
              "          const dataTable =\n",
              "            await google.colab.kernel.invokeFunction('convertToInteractive',\n",
              "                                                     [key], {});\n",
              "          if (!dataTable) return;\n",
              "\n",
              "          const docLinkHtml = 'Like what you see? Visit the ' +\n",
              "            '<a target=\"_blank\" href=https://colab.research.google.com/notebooks/data_table.ipynb>data table notebook</a>'\n",
              "            + ' to learn more about interactive tables.';\n",
              "          element.innerHTML = '';\n",
              "          dataTable['output_type'] = 'display_data';\n",
              "          await google.colab.output.renderOutput(dataTable, element);\n",
              "          const docLink = document.createElement('div');\n",
              "          docLink.innerHTML = docLinkHtml;\n",
              "          element.appendChild(docLink);\n",
              "        }\n",
              "      </script>\n",
              "    </div>\n",
              "  </div>\n",
              "  "
            ],
            "text/plain": [
              "        Id  SalePrice\n",
              "Id                   \n",
              "0     1461   126851.7\n",
              "1     1462   165647.9\n",
              "2     1463   207351.8\n",
              "3     1464   204315.0\n",
              "4     1465   193264.0\n",
              "...    ...        ...\n",
              "1454  2915    91284.8\n",
              "1455  2916    80504.6\n",
              "1456  2917   173702.5\n",
              "1457  2918   114781.3\n",
              "1458  2919   225081.6\n",
              "\n",
              "[1459 rows x 2 columns]"
            ]
          },
          "execution_count": 49,
          "metadata": {},
          "output_type": "execute_result"
        }
      ],
      "source": [
        "trainPredictDF = trainPredictDF[['Id', 'SalePrice']]\n",
        "trainPredictDF"
      ]
    },
    {
      "cell_type": "code",
      "execution_count": null,
      "metadata": {
        "id": "YKyILGo-rWFZ"
      },
      "outputs": [],
      "source": [
        "trainPredictDF['Id'] = trainPredictDF['Id'] + 1461"
      ]
    },
    {
      "cell_type": "code",
      "execution_count": null,
      "metadata": {
        "colab": {
          "base_uri": "https://localhost:8080/"
        },
        "id": "0rK-HySJ9ncD",
        "outputId": "b9437996-406a-48c4-fedb-c625941be2af"
      },
      "outputs": [
        {
          "data": {
            "text/plain": [
              "18128.77276330378"
            ]
          },
          "execution_count": 29,
          "metadata": {},
          "output_type": "execute_result"
        }
      ],
      "source": [
        "trainPredictDF['delta'] = np.absolute(trainPredictDF['predictions'] - trainPredictDF['SalePrice'])\n",
        "trainPredictDF[\"delta\"].mean()"
      ]
    },
    {
      "cell_type": "code",
      "execution_count": null,
      "metadata": {
        "colab": {
          "base_uri": "https://localhost:8080/",
          "height": 424
        },
        "id": "gIP_Xcx69ncE",
        "outputId": "cc95263a-8616-4d24-9237-65ba2a9e18f3"
      },
      "outputs": [
        {
          "data": {
            "text/html": [
              "\n",
              "  <div id=\"df-0c8ba169-6012-445e-9898-6ac3c8878a7c\">\n",
              "    <div class=\"colab-df-container\">\n",
              "      <div>\n",
              "<style scoped>\n",
              "    .dataframe tbody tr th:only-of-type {\n",
              "        vertical-align: middle;\n",
              "    }\n",
              "\n",
              "    .dataframe tbody tr th {\n",
              "        vertical-align: top;\n",
              "    }\n",
              "\n",
              "    .dataframe thead th {\n",
              "        text-align: right;\n",
              "    }\n",
              "</style>\n",
              "<table border=\"1\" class=\"dataframe\">\n",
              "  <thead>\n",
              "    <tr style=\"text-align: right;\">\n",
              "      <th></th>\n",
              "      <th>predictions</th>\n",
              "      <th>SalePrice</th>\n",
              "      <th>delta</th>\n",
              "    </tr>\n",
              "  </thead>\n",
              "  <tbody>\n",
              "    <tr>\n",
              "      <th>0</th>\n",
              "      <td>198842.9</td>\n",
              "      <td>208500</td>\n",
              "      <td>9657.1</td>\n",
              "    </tr>\n",
              "    <tr>\n",
              "      <th>1</th>\n",
              "      <td>185270.6</td>\n",
              "      <td>181500</td>\n",
              "      <td>3770.6</td>\n",
              "    </tr>\n",
              "    <tr>\n",
              "      <th>2</th>\n",
              "      <td>203058.3</td>\n",
              "      <td>223500</td>\n",
              "      <td>20441.7</td>\n",
              "    </tr>\n",
              "    <tr>\n",
              "      <th>3</th>\n",
              "      <td>152980.4</td>\n",
              "      <td>140000</td>\n",
              "      <td>12980.4</td>\n",
              "    </tr>\n",
              "    <tr>\n",
              "      <th>4</th>\n",
              "      <td>286585.6</td>\n",
              "      <td>250000</td>\n",
              "      <td>36585.6</td>\n",
              "    </tr>\n",
              "    <tr>\n",
              "      <th>...</th>\n",
              "      <td>...</td>\n",
              "      <td>...</td>\n",
              "      <td>...</td>\n",
              "    </tr>\n",
              "    <tr>\n",
              "      <th>1455</th>\n",
              "      <td>168994.7</td>\n",
              "      <td>175000</td>\n",
              "      <td>6005.3</td>\n",
              "    </tr>\n",
              "    <tr>\n",
              "      <th>1456</th>\n",
              "      <td>230397.1</td>\n",
              "      <td>210000</td>\n",
              "      <td>20397.1</td>\n",
              "    </tr>\n",
              "    <tr>\n",
              "      <th>1457</th>\n",
              "      <td>225734.7</td>\n",
              "      <td>266500</td>\n",
              "      <td>40765.3</td>\n",
              "    </tr>\n",
              "    <tr>\n",
              "      <th>1458</th>\n",
              "      <td>129222.2</td>\n",
              "      <td>142125</td>\n",
              "      <td>12902.8</td>\n",
              "    </tr>\n",
              "    <tr>\n",
              "      <th>1459</th>\n",
              "      <td>147604.6</td>\n",
              "      <td>147500</td>\n",
              "      <td>104.6</td>\n",
              "    </tr>\n",
              "  </tbody>\n",
              "</table>\n",
              "<p>1460 rows × 3 columns</p>\n",
              "</div>\n",
              "      <button class=\"colab-df-convert\" onclick=\"convertToInteractive('df-0c8ba169-6012-445e-9898-6ac3c8878a7c')\"\n",
              "              title=\"Convert this dataframe to an interactive table.\"\n",
              "              style=\"display:none;\">\n",
              "        \n",
              "  <svg xmlns=\"http://www.w3.org/2000/svg\" height=\"24px\"viewBox=\"0 0 24 24\"\n",
              "       width=\"24px\">\n",
              "    <path d=\"M0 0h24v24H0V0z\" fill=\"none\"/>\n",
              "    <path d=\"M18.56 5.44l.94 2.06.94-2.06 2.06-.94-2.06-.94-.94-2.06-.94 2.06-2.06.94zm-11 1L8.5 8.5l.94-2.06 2.06-.94-2.06-.94L8.5 2.5l-.94 2.06-2.06.94zm10 10l.94 2.06.94-2.06 2.06-.94-2.06-.94-.94-2.06-.94 2.06-2.06.94z\"/><path d=\"M17.41 7.96l-1.37-1.37c-.4-.4-.92-.59-1.43-.59-.52 0-1.04.2-1.43.59L10.3 9.45l-7.72 7.72c-.78.78-.78 2.05 0 2.83L4 21.41c.39.39.9.59 1.41.59.51 0 1.02-.2 1.41-.59l7.78-7.78 2.81-2.81c.8-.78.8-2.07 0-2.86zM5.41 20L4 18.59l7.72-7.72 1.47 1.35L5.41 20z\"/>\n",
              "  </svg>\n",
              "      </button>\n",
              "      \n",
              "  <style>\n",
              "    .colab-df-container {\n",
              "      display:flex;\n",
              "      flex-wrap:wrap;\n",
              "      gap: 12px;\n",
              "    }\n",
              "\n",
              "    .colab-df-convert {\n",
              "      background-color: #E8F0FE;\n",
              "      border: none;\n",
              "      border-radius: 50%;\n",
              "      cursor: pointer;\n",
              "      display: none;\n",
              "      fill: #1967D2;\n",
              "      height: 32px;\n",
              "      padding: 0 0 0 0;\n",
              "      width: 32px;\n",
              "    }\n",
              "\n",
              "    .colab-df-convert:hover {\n",
              "      background-color: #E2EBFA;\n",
              "      box-shadow: 0px 1px 2px rgba(60, 64, 67, 0.3), 0px 1px 3px 1px rgba(60, 64, 67, 0.15);\n",
              "      fill: #174EA6;\n",
              "    }\n",
              "\n",
              "    [theme=dark] .colab-df-convert {\n",
              "      background-color: #3B4455;\n",
              "      fill: #D2E3FC;\n",
              "    }\n",
              "\n",
              "    [theme=dark] .colab-df-convert:hover {\n",
              "      background-color: #434B5C;\n",
              "      box-shadow: 0px 1px 3px 1px rgba(0, 0, 0, 0.15);\n",
              "      filter: drop-shadow(0px 1px 2px rgba(0, 0, 0, 0.3));\n",
              "      fill: #FFFFFF;\n",
              "    }\n",
              "  </style>\n",
              "\n",
              "      <script>\n",
              "        const buttonEl =\n",
              "          document.querySelector('#df-0c8ba169-6012-445e-9898-6ac3c8878a7c button.colab-df-convert');\n",
              "        buttonEl.style.display =\n",
              "          google.colab.kernel.accessAllowed ? 'block' : 'none';\n",
              "\n",
              "        async function convertToInteractive(key) {\n",
              "          const element = document.querySelector('#df-0c8ba169-6012-445e-9898-6ac3c8878a7c');\n",
              "          const dataTable =\n",
              "            await google.colab.kernel.invokeFunction('convertToInteractive',\n",
              "                                                     [key], {});\n",
              "          if (!dataTable) return;\n",
              "\n",
              "          const docLinkHtml = 'Like what you see? Visit the ' +\n",
              "            '<a target=\"_blank\" href=https://colab.research.google.com/notebooks/data_table.ipynb>data table notebook</a>'\n",
              "            + ' to learn more about interactive tables.';\n",
              "          element.innerHTML = '';\n",
              "          dataTable['output_type'] = 'display_data';\n",
              "          await google.colab.output.renderOutput(dataTable, element);\n",
              "          const docLink = document.createElement('div');\n",
              "          docLink.innerHTML = docLinkHtml;\n",
              "          element.appendChild(docLink);\n",
              "        }\n",
              "      </script>\n",
              "    </div>\n",
              "  </div>\n",
              "  "
            ],
            "text/plain": [
              "      predictions  SalePrice   delta\n",
              "0        198842.9     208500  9657.1\n",
              "1        185270.6     181500  3770.6\n",
              "2        203058.3     223500 20441.7\n",
              "3        152980.4     140000 12980.4\n",
              "4        286585.6     250000 36585.6\n",
              "...           ...        ...     ...\n",
              "1455     168994.7     175000  6005.3\n",
              "1456     230397.1     210000 20397.1\n",
              "1457     225734.7     266500 40765.3\n",
              "1458     129222.2     142125 12902.8\n",
              "1459     147604.6     147500   104.6\n",
              "\n",
              "[1460 rows x 3 columns]"
            ]
          },
          "execution_count": 30,
          "metadata": {},
          "output_type": "execute_result"
        }
      ],
      "source": [
        "#trainPredictDF['predictions'] = trainPredictDF[0] * 79442 - 180921\n",
        "#trainPredictDF['SalePrice'] = trainPredictDF['SalePrice']  * 79442 - 180921\n",
        "trainPredictDF"
      ]
    },
    {
      "cell_type": "code",
      "execution_count": null,
      "metadata": {
        "colab": {
          "base_uri": "https://localhost:8080/"
        },
        "id": "AlQc1ILUgFJh",
        "outputId": "3d6b4973-29a2-4458-dda0-5e639ae687d8"
      },
      "outputs": [
        {
          "data": {
            "text/plain": [
              "-170180.4416"
            ]
          },
          "execution_count": 2,
          "metadata": {},
          "output_type": "execute_result"
        }
      ],
      "source": [
        "test_df_mean= \n",
        "180921.19589041095\n",
        "test_df_std= \n",
        "79442.50288288662"
      ]
    },
    {
      "cell_type": "code",
      "execution_count": null,
      "metadata": {
        "colab": {
          "base_uri": "https://localhost:8080/"
        },
        "id": "g2zT8rcYkbwG",
        "outputId": "3fe20af5-640d-4b24-ab92-e6bef2728a46"
      },
      "outputs": [
        {
          "data": {
            "text/plain": [
              "10740.62638976627"
            ]
          },
          "execution_count": 47,
          "metadata": {},
          "output_type": "execute_result"
        }
      ],
      "source": [
        "0.1352 * 79442.50288288662"
      ]
    },
    {
      "cell_type": "code",
      "execution_count": null,
      "metadata": {
        "id": "26ZKEWBxiClP"
      },
      "outputs": [],
      "source": [
        "test_df_mean = test_df.mean()\n",
        "test_df_std = test_df.std()\n",
        "test_df_norm = (test_df - test_df_mean)/test_df_std\n",
        "(test_df_norm + test_df_mean/test_df_std)test_df_std  = test_df"
      ]
    },
    {
      "cell_type": "code",
      "execution_count": null,
      "metadata": {
        "id": "C5KgsXrQ0CR8"
      },
      "outputs": [],
      "source": [
        "#SKLEARN LINEAR REGRESSION MODEL"
      ]
    },
    {
      "cell_type": "code",
      "execution_count": null,
      "metadata": {
        "colab": {
          "base_uri": "https://localhost:8080/",
          "height": 270
        },
        "id": "0DnfRUEN0Qz2",
        "outputId": "f4f9cf80-1fdb-417f-fc3e-dfec27f04a9c"
      },
      "outputs": [
        {
          "data": {
            "text/html": [
              "\n",
              "  <div id=\"df-d4c7d4d4-d151-47f5-98fd-9d3aeb4a8d4a\">\n",
              "    <div class=\"colab-df-container\">\n",
              "      <div>\n",
              "<style scoped>\n",
              "    .dataframe tbody tr th:only-of-type {\n",
              "        vertical-align: middle;\n",
              "    }\n",
              "\n",
              "    .dataframe tbody tr th {\n",
              "        vertical-align: top;\n",
              "    }\n",
              "\n",
              "    .dataframe thead th {\n",
              "        text-align: right;\n",
              "    }\n",
              "</style>\n",
              "<table border=\"1\" class=\"dataframe\">\n",
              "  <thead>\n",
              "    <tr style=\"text-align: right;\">\n",
              "      <th></th>\n",
              "      <th>FullBath</th>\n",
              "      <th>HalfBath</th>\n",
              "      <th>LotArea</th>\n",
              "      <th>OverallCond</th>\n",
              "      <th>SaleCondition_Abnorml</th>\n",
              "      <th>SaleCondition_AdjLand</th>\n",
              "      <th>SaleCondition_Alloca</th>\n",
              "      <th>SaleCondition_Family</th>\n",
              "      <th>SaleCondition_Normal</th>\n",
              "      <th>SaleCondition_Partial</th>\n",
              "      <th>1stFlrSF</th>\n",
              "      <th>2ndFlrSF</th>\n",
              "      <th>YrSold</th>\n",
              "      <th>YearBuilt</th>\n",
              "      <th>GarageCars</th>\n",
              "      <th>BsmtFinSF1</th>\n",
              "      <th>BsmtFinSF2</th>\n",
              "    </tr>\n",
              "  </thead>\n",
              "  <tbody>\n",
              "    <tr>\n",
              "      <th>457</th>\n",
              "      <td>1</td>\n",
              "      <td>0</td>\n",
              "      <td>53227</td>\n",
              "      <td>6</td>\n",
              "      <td>0</td>\n",
              "      <td>0</td>\n",
              "      <td>0</td>\n",
              "      <td>0</td>\n",
              "      <td>1</td>\n",
              "      <td>0</td>\n",
              "      <td>1663</td>\n",
              "      <td>0</td>\n",
              "      <td>2008</td>\n",
              "      <td>1954</td>\n",
              "      <td>2</td>\n",
              "      <td>1116</td>\n",
              "      <td>0</td>\n",
              "    </tr>\n",
              "    <tr>\n",
              "      <th>352</th>\n",
              "      <td>1</td>\n",
              "      <td>0</td>\n",
              "      <td>9084</td>\n",
              "      <td>6</td>\n",
              "      <td>0</td>\n",
              "      <td>0</td>\n",
              "      <td>0</td>\n",
              "      <td>0</td>\n",
              "      <td>1</td>\n",
              "      <td>0</td>\n",
              "      <td>616</td>\n",
              "      <td>495</td>\n",
              "      <td>2008</td>\n",
              "      <td>1941</td>\n",
              "      <td>1</td>\n",
              "      <td>236</td>\n",
              "      <td>380</td>\n",
              "    </tr>\n",
              "    <tr>\n",
              "      <th>1307</th>\n",
              "      <td>1</td>\n",
              "      <td>0</td>\n",
              "      <td>8072</td>\n",
              "      <td>5</td>\n",
              "      <td>0</td>\n",
              "      <td>0</td>\n",
              "      <td>0</td>\n",
              "      <td>0</td>\n",
              "      <td>1</td>\n",
              "      <td>0</td>\n",
              "      <td>990</td>\n",
              "      <td>0</td>\n",
              "      <td>2009</td>\n",
              "      <td>1994</td>\n",
              "      <td>2</td>\n",
              "      <td>746</td>\n",
              "      <td>0</td>\n",
              "    </tr>\n",
              "    <tr>\n",
              "      <th>409</th>\n",
              "      <td>2</td>\n",
              "      <td>1</td>\n",
              "      <td>10800</td>\n",
              "      <td>5</td>\n",
              "      <td>0</td>\n",
              "      <td>0</td>\n",
              "      <td>0</td>\n",
              "      <td>0</td>\n",
              "      <td>0</td>\n",
              "      <td>1</td>\n",
              "      <td>1050</td>\n",
              "      <td>1028</td>\n",
              "      <td>2008</td>\n",
              "      <td>2007</td>\n",
              "      <td>3</td>\n",
              "      <td>789</td>\n",
              "      <td>0</td>\n",
              "    </tr>\n",
              "    <tr>\n",
              "      <th>980</th>\n",
              "      <td>1</td>\n",
              "      <td>0</td>\n",
              "      <td>12122</td>\n",
              "      <td>9</td>\n",
              "      <td>0</td>\n",
              "      <td>0</td>\n",
              "      <td>0</td>\n",
              "      <td>0</td>\n",
              "      <td>1</td>\n",
              "      <td>0</td>\n",
              "      <td>999</td>\n",
              "      <td>0</td>\n",
              "      <td>2008</td>\n",
              "      <td>1961</td>\n",
              "      <td>2</td>\n",
              "      <td>867</td>\n",
              "      <td>0</td>\n",
              "    </tr>\n",
              "  </tbody>\n",
              "</table>\n",
              "</div>\n",
              "      <button class=\"colab-df-convert\" onclick=\"convertToInteractive('df-d4c7d4d4-d151-47f5-98fd-9d3aeb4a8d4a')\"\n",
              "              title=\"Convert this dataframe to an interactive table.\"\n",
              "              style=\"display:none;\">\n",
              "        \n",
              "  <svg xmlns=\"http://www.w3.org/2000/svg\" height=\"24px\"viewBox=\"0 0 24 24\"\n",
              "       width=\"24px\">\n",
              "    <path d=\"M0 0h24v24H0V0z\" fill=\"none\"/>\n",
              "    <path d=\"M18.56 5.44l.94 2.06.94-2.06 2.06-.94-2.06-.94-.94-2.06-.94 2.06-2.06.94zm-11 1L8.5 8.5l.94-2.06 2.06-.94-2.06-.94L8.5 2.5l-.94 2.06-2.06.94zm10 10l.94 2.06.94-2.06 2.06-.94-2.06-.94-.94-2.06-.94 2.06-2.06.94z\"/><path d=\"M17.41 7.96l-1.37-1.37c-.4-.4-.92-.59-1.43-.59-.52 0-1.04.2-1.43.59L10.3 9.45l-7.72 7.72c-.78.78-.78 2.05 0 2.83L4 21.41c.39.39.9.59 1.41.59.51 0 1.02-.2 1.41-.59l7.78-7.78 2.81-2.81c.8-.78.8-2.07 0-2.86zM5.41 20L4 18.59l7.72-7.72 1.47 1.35L5.41 20z\"/>\n",
              "  </svg>\n",
              "      </button>\n",
              "      \n",
              "  <style>\n",
              "    .colab-df-container {\n",
              "      display:flex;\n",
              "      flex-wrap:wrap;\n",
              "      gap: 12px;\n",
              "    }\n",
              "\n",
              "    .colab-df-convert {\n",
              "      background-color: #E8F0FE;\n",
              "      border: none;\n",
              "      border-radius: 50%;\n",
              "      cursor: pointer;\n",
              "      display: none;\n",
              "      fill: #1967D2;\n",
              "      height: 32px;\n",
              "      padding: 0 0 0 0;\n",
              "      width: 32px;\n",
              "    }\n",
              "\n",
              "    .colab-df-convert:hover {\n",
              "      background-color: #E2EBFA;\n",
              "      box-shadow: 0px 1px 2px rgba(60, 64, 67, 0.3), 0px 1px 3px 1px rgba(60, 64, 67, 0.15);\n",
              "      fill: #174EA6;\n",
              "    }\n",
              "\n",
              "    [theme=dark] .colab-df-convert {\n",
              "      background-color: #3B4455;\n",
              "      fill: #D2E3FC;\n",
              "    }\n",
              "\n",
              "    [theme=dark] .colab-df-convert:hover {\n",
              "      background-color: #434B5C;\n",
              "      box-shadow: 0px 1px 3px 1px rgba(0, 0, 0, 0.15);\n",
              "      filter: drop-shadow(0px 1px 2px rgba(0, 0, 0, 0.3));\n",
              "      fill: #FFFFFF;\n",
              "    }\n",
              "  </style>\n",
              "\n",
              "      <script>\n",
              "        const buttonEl =\n",
              "          document.querySelector('#df-d4c7d4d4-d151-47f5-98fd-9d3aeb4a8d4a button.colab-df-convert');\n",
              "        buttonEl.style.display =\n",
              "          google.colab.kernel.accessAllowed ? 'block' : 'none';\n",
              "\n",
              "        async function convertToInteractive(key) {\n",
              "          const element = document.querySelector('#df-d4c7d4d4-d151-47f5-98fd-9d3aeb4a8d4a');\n",
              "          const dataTable =\n",
              "            await google.colab.kernel.invokeFunction('convertToInteractive',\n",
              "                                                     [key], {});\n",
              "          if (!dataTable) return;\n",
              "\n",
              "          const docLinkHtml = 'Like what you see? Visit the ' +\n",
              "            '<a target=\"_blank\" href=https://colab.research.google.com/notebooks/data_table.ipynb>data table notebook</a>'\n",
              "            + ' to learn more about interactive tables.';\n",
              "          element.innerHTML = '';\n",
              "          dataTable['output_type'] = 'display_data';\n",
              "          await google.colab.output.renderOutput(dataTable, element);\n",
              "          const docLink = document.createElement('div');\n",
              "          docLink.innerHTML = docLinkHtml;\n",
              "          element.appendChild(docLink);\n",
              "        }\n",
              "      </script>\n",
              "    </div>\n",
              "  </div>\n",
              "  "
            ],
            "text/plain": [
              "      FullBath  HalfBath  LotArea  OverallCond  SaleCondition_Abnorml  \\\n",
              "457          1         0    53227            6                      0   \n",
              "352          1         0     9084            6                      0   \n",
              "1307         1         0     8072            5                      0   \n",
              "409          2         1    10800            5                      0   \n",
              "980          1         0    12122            9                      0   \n",
              "\n",
              "      SaleCondition_AdjLand  SaleCondition_Alloca  SaleCondition_Family  \\\n",
              "457                       0                     0                     0   \n",
              "352                       0                     0                     0   \n",
              "1307                      0                     0                     0   \n",
              "409                       0                     0                     0   \n",
              "980                       0                     0                     0   \n",
              "\n",
              "      SaleCondition_Normal  SaleCondition_Partial  1stFlrSF  2ndFlrSF  YrSold  \\\n",
              "457                      1                      0      1663         0    2008   \n",
              "352                      1                      0       616       495    2008   \n",
              "1307                     1                      0       990         0    2009   \n",
              "409                      0                      1      1050      1028    2008   \n",
              "980                      1                      0       999         0    2008   \n",
              "\n",
              "      YearBuilt  GarageCars  BsmtFinSF1  BsmtFinSF2  \n",
              "457        1954           2        1116           0  \n",
              "352        1941           1         236         380  \n",
              "1307       1994           2         746           0  \n",
              "409        2007           3         789           0  \n",
              "980        1961           2         867           0  "
            ]
          },
          "execution_count": 56,
          "metadata": {},
          "output_type": "execute_result"
        }
      ],
      "source": [
        "y = train_df.SalePrice\n",
        "X = train_df[features]\n",
        "X.head()"
      ]
    },
    {
      "cell_type": "code",
      "execution_count": null,
      "metadata": {
        "id": "hd8tZmAx0h40"
      },
      "outputs": [],
      "source": [
        "from sklearn.tree import DecisionTreeRegressor"
      ]
    },
    {
      "cell_type": "code",
      "execution_count": null,
      "metadata": {
        "colab": {
          "base_uri": "https://localhost:8080/"
        },
        "id": "Y8tnKKK_1uER",
        "outputId": "2145a6c9-45f8-49f6-8a56-9192dfe76e11"
      },
      "outputs": [
        {
          "data": {
            "text/plain": [
              "DecisionTreeRegressor(random_state=1)"
            ]
          },
          "execution_count": 70,
          "metadata": {},
          "output_type": "execute_result"
        }
      ],
      "source": [
        "amesModel = DecisionTreeRegressor(random_state=1)\n",
        "amesModel.fit(X, y)"
      ]
    },
    {
      "cell_type": "code",
      "execution_count": null,
      "metadata": {
        "colab": {
          "base_uri": "https://localhost:8080/"
        },
        "id": "D4Gy6UBT2PlR",
        "outputId": "461025a1-b093-412d-b611-c897afc08123"
      },
      "outputs": [
        {
          "name": "stdout",
          "output_type": "stream",
          "text": [
            "[256000.  95000. 138000. ... 159895. 155000. 246578.]\n"
          ]
        }
      ],
      "source": [
        "  predictions = amesModel.predict(X)\n",
        "  print(predictions)\n",
        "  #train_df['SalePrice']"
      ]
    },
    {
      "cell_type": "code",
      "execution_count": null,
      "metadata": {
        "id": "HdcEwBH68sdM"
      },
      "outputs": [],
      "source": [
        "from sklearn.model_selection import train_test_split"
      ]
    },
    {
      "cell_type": "code",
      "execution_count": null,
      "metadata": {
        "id": "ube4O9XX8xZD"
      },
      "outputs": [],
      "source": [
        "train_X, val_X, train_y, val_y = train_test_split(X, y, random_state=1)"
      ]
    },
    {
      "cell_type": "code",
      "execution_count": null,
      "metadata": {
        "colab": {
          "base_uri": "https://localhost:8080/"
        },
        "id": "mCSe_3hv848Y",
        "outputId": "21dab3ec-64b3-4bc9-f5c8-cb91b4952d1a"
      },
      "outputs": [
        {
          "data": {
            "text/plain": [
              "DecisionTreeRegressor(random_state=1)"
            ]
          },
          "execution_count": 74,
          "metadata": {},
          "output_type": "execute_result"
        }
      ],
      "source": [
        "amesModel.fit(train_X, train_y)"
      ]
    },
    {
      "cell_type": "code",
      "execution_count": null,
      "metadata": {
        "id": "xrvvQ2Mr9N_m"
      },
      "outputs": [],
      "source": [
        "predic = amesModel.predict(val_X)"
      ]
    },
    {
      "cell_type": "code",
      "execution_count": null,
      "metadata": {
        "colab": {
          "base_uri": "https://localhost:8080/"
        },
        "id": "P9ho-gzv9fYJ",
        "outputId": "779892be-3c4d-42b2-ad3d-53e847a42eab"
      },
      "outputs": [
        {
          "name": "stdout",
          "output_type": "stream",
          "text": [
            "[230500. 105000. 135000.  79000. 119750. 134450. 360000. 194500. 127000.\n",
            " 170000. 295493. 179900. 130250. 161500. 193500. 392000. 129000. 423000.\n",
            " 124000. 159000. 255000. 140000. 142000. 295493. 141000. 270000. 131000.\n",
            " 226700. 271000. 240000. 254900. 277000. 128500. 115000. 157500.  82000.\n",
            " 248000. 135000. 485000. 110000.  52500.  82500. 177000.  52500. 127000.\n",
            " 178000. 137900. 188500. 394432. 105000. 180500. 180000. 262280. 106500.\n",
            " 130500. 148000. 242000. 215000. 133000. 193000.  84500. 139600. 143500.\n",
            " 128000. 140200. 156000. 225000.  87000. 171000. 210000. 193000.  87000.\n",
            " 165000. 154000. 204000. 207500. 164000. 116500.  80000. 250000. 253000.\n",
            " 279500. 161500. 274000. 133900. 185750. 134900. 133500. 259500. 172500.\n",
            " 485000. 136000. 154300. 306000. 415298. 171500. 235000. 154000. 119750.\n",
            " 178000.  87000. 200000. 134000. 335000. 142500. 137500. 191000. 325624.\n",
            " 135500. 188700. 121500. 155000. 110000. 177000. 147000. 128000. 214000.\n",
            " 120000. 177000. 111000. 215000. 118500.  97500. 110000. 255000. 167000.\n",
            " 171000. 120500. 215000. 132000. 180000. 159434. 135000. 221000. 140000.\n",
            " 259500.  82000. 119500. 118500. 173000. 144152. 193500. 130500. 137500.\n",
            " 111000. 179540.  91000. 175000. 315000. 177000. 179665. 274000.  84500.\n",
            " 120000. 225000. 217000. 139000. 139000. 146000. 197500. 134900. 101800.\n",
            " 173500. 149300. 180000. 122000. 125000. 320000. 193500. 180000. 279500.\n",
            " 111000. 250580. 138500. 104000. 440000. 120500. 745000. 134000. 315750.\n",
            "  90000. 175000. 207000. 173900. 255500.  83500. 180000. 168500. 101800.\n",
            " 135000. 190000. 120500.  82500. 252678. 174500. 179000. 197500. 145000.\n",
            " 274000. 177000. 129900. 236000. 167000. 181000. 180000.  80500. 115000.\n",
            " 345000. 196000. 217000. 217000. 140000. 127500. 293077. 118858. 424870.\n",
            " 197500. 139400. 113000. 125000. 185900.  82500. 115000. 282922. 100000.\n",
            " 235000. 156000. 140200. 133000. 145000.  94000. 128000. 228500. 110000.\n",
            " 139000. 125000. 187100.  99900. 114500. 207500. 200000. 130000. 202500.\n",
            "  97000. 143000. 128900. 135000. 255000. 123600. 279500. 132500. 538000.\n",
            " 230000. 235128. 192500. 178000. 187100. 169000. 394617. 555000.  91500.\n",
            " 119000. 200000. 128900. 410000. 145000. 745000. 126000. 231500. 157000.\n",
            " 147500. 240000. 412500. 239000. 239500. 107500. 125000. 101000. 127500.\n",
            " 250000. 200000. 174000. 135000. 295493. 183500. 204900. 127500. 143500.\n",
            " 192500. 178740. 255000. 190000. 173000. 180000. 140000. 175000. 201800.\n",
            " 244400. 200000. 341000.  81000. 162500. 555000. 186500. 230500. 181000.\n",
            " 173000. 140200. 170000. 110000.  78000. 123000. 193879.  99900. 201000.\n",
            " 130000.  97000. 132500. 154000. 140000. 125000. 139400. 179200. 135750.\n",
            " 210000. 121500. 151500. 171000. 119500. 200000. 203000. 275000. 214900.\n",
            " 232000. 144152. 250000. 155000.  96500. 140000. 129500.  84500.  82500.\n",
            " 200000. 119000. 215000. 137500.  87000. 119500. 161500. 128000. 193500.\n",
            " 184900. 112000. 134900. 155000. 105000. 108000. 130000. 185000. 163000.\n",
            " 165600. 168000. 127000. 284000. 159500.]\n"
          ]
        },
        {
          "data": {
            "text/plain": [
              "<bound method NDFrame.head of 457     256000\n",
              "352      95000\n",
              "1307    138000\n",
              "409     339750\n",
              "980     178400\n",
              "         ...  \n",
              "632      82500\n",
              "393     100000\n",
              "982     159895\n",
              "962     155000\n",
              "1394    246578\n",
              "Name: SalePrice, Length: 1460, dtype: int64>"
            ]
          },
          "execution_count": 81,
          "metadata": {},
          "output_type": "execute_result"
        }
      ],
      "source": [
        "print(predic)\n",
        "y.head"
      ]
    }
  ],
  "metadata": {
    "colab": {
      "provenance": []
    },
    "kernelspec": {
      "display_name": "Python 3",
      "name": "python3"
    },
    "language_info": {
      "name": "python"
    }
  },
  "nbformat": 4,
  "nbformat_minor": 0
}